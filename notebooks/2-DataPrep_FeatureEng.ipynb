{
 "cells": [
  {
   "cell_type": "markdown",
   "id": "03524023",
   "metadata": {},
   "source": [
    "<img src=\"https://www.iscte-iul.pt/assets/images/logo_iscte_detailed.svg\" style=\"width: 450px;margin-top:30px;\" align =\"center\">\n",
    "\n",
    "<div style= \"font-size: 35px;  margin-top:40px; font-weight:bold; font-family: 'Avenir Next LT Pro', sans-serif;\"><center>Data Preparation & Feature Engineering: <strong>E-Commerce</strong></center></div>\n",
    "<div style= \"font-size: 30px; font-weight:bold; font-family: 'Avenir Next LT Pro', sans-serif;\"><center>Organizing all variables and data to the models phase</center></div>\n",
    "\n",
    "<div style= \"font-size: 27px;font-weight:bold;line-height: 1.1; margin-top:40px; font-family: 'Avenir Next LT Pro', sans-serif;\"><center>Processamento e Modelação de Big Data 2024/2025</center></div> <br>\n",
    "\n",
    "   <div style= \"font-size: 20px;font-weight:bold; font-family: 'Avenir Next LT Pro', sans-serif;\"><center> Grupo 7:</center></div>\n",
    "   <div><center> Diogo Freitas | 104841 </center></div>\n",
    "   <div><center> João Francisco Botas | 104782 </center></div>\n",
    "   <div><center> Miguel Gonçalves | 105944 </center></div>\n",
    "   <div><center> Ricardo Galvão | 105285 </center></div>"
   ]
  },
  {
   "cell_type": "code",
   "execution_count": 1,
   "id": "1adeaa65",
   "metadata": {},
   "outputs": [],
   "source": [
    "# Importações Básicas\n",
    "import pyspark\n",
    "import pandas as pd\n",
    "from pyspark.sql import SparkSession, Row\n",
    "import pyspark.sql.functions as F\n",
    "from pyspark.sql.functions import split, isnan, col, isnull, avg, count, round\n",
    "from pyspark.sql.types import (\n",
    "    StructType, StructField,\n",
    "    StringType, LongType, DoubleType, TimestampType\n",
    ")\n",
    "\n",
    "\n",
    "# Create a Spark session\n",
    "spark = SparkSession.builder \\\n",
    "    .appName(\"PMBD\") \\\n",
    "    .config(\"spark.executor.memory\", \"4g\") \\\n",
    "    .config(\"spark.driver.memory\", \"4g\") \\\n",
    "    .getOrCreate()"
   ]
  },
  {
   "cell_type": "code",
   "execution_count": 2,
   "id": "21c5bfcb",
   "metadata": {},
   "outputs": [],
   "source": [
    "# Criação da Sessão\n",
    "spark = SparkSession.builder.appName(\"Projeto\").getOrCreate()\n",
    "\n",
    "# Leitura de dados\n",
    "data_dir = '../data/raw/'\n",
    "file_ec = data_dir + '2019-Nov.csv'\n",
    "\n",
    "# Carrega as primeiras 10.000 linhas\n",
    "ec_pandas = pd.read_csv(file_ec, nrows=10000)\n",
    "\n",
    "# Converte para Spark\n",
    "ec = spark.createDataFrame(ec_pandas)"
   ]
  },
  {
   "cell_type": "code",
   "execution_count": 3,
   "id": "d5bf3585",
   "metadata": {},
   "outputs": [
    {
     "name": "stdout",
     "output_type": "stream",
     "text": [
      "+--------------------+----------+----------+-------------------+--------------------+--------+------+---------+--------------------+\n",
      "|          event_time|event_type|product_id|        category_id|       category_code|   brand| price|  user_id|        user_session|\n",
      "+--------------------+----------+----------+-------------------+--------------------+--------+------+---------+--------------------+\n",
      "|2019-11-01 00:00:...|      view|   1003461|2053013555631882655|electronics.smart...|  xiaomi|489.07|520088904|4d3b30da-a5e4-49d...|\n",
      "|2019-11-01 00:00:...|      view|   5000088|2053013566100866035|appliances.sewing...|  janome|293.65|530496790|8e5f4f83-366c-4f7...|\n",
      "|2019-11-01 00:00:...|      view|  17302664|2053013553853497655|                 NaN|   creed| 28.31|561587266|755422e7-9040-477...|\n",
      "|2019-11-01 00:00:...|      view|   3601530|2053013563810775923|appliances.kitche...|      lg|712.87|518085591|3bfb58cd-7892-48c...|\n",
      "|2019-11-01 00:00:...|      view|   1004775|2053013555631882655|electronics.smart...|  xiaomi|183.27|558856683|313628f1-68b8-460...|\n",
      "|2019-11-01 00:00:...|      view|   1306894|2053013558920217191|  computers.notebook|      hp|360.09|520772685|816a59f3-f5ae-4cc...|\n",
      "|2019-11-01 00:00:...|      view|   1306421|2053013558920217191|  computers.notebook|      hp|514.56|514028527|df8184cc-3694-454...|\n",
      "|2019-11-01 00:00:...|      view|  15900065|2053013558190408249|                 NaN| rondell| 30.86|518574284|5e6ef132-4d7c-473...|\n",
      "|2019-11-01 00:00:...|      view|  12708937|2053013553559896355|                 NaN|michelin| 72.72|532364121|0a899268-31eb-46d...|\n",
      "|2019-11-01 00:00:...|      view|   1004258|2053013555631882655|electronics.smart...|   apple|732.07|532647354|d2d3d2c6-631d-489...|\n",
      "|2019-11-01 00:00:...|      view|  17200570|2053013559792632471|furniture.living_...|     NaN|437.33|518780843|aa806835-b14c-45a...|\n",
      "|2019-11-01 00:00:...|      view|   2701517|2053013563911439225|appliances.kitche...|     NaN|155.11|518427361|c89b0d96-247f-404...|\n",
      "|2019-11-01 00:00:...|      view|  16700260|2053013559901684381|furniture.kitchen...|     NaN| 31.64|566255262|173d7b72-1db7-463...|\n",
      "|2019-11-01 00:00:...|      view|  34600011|2060981320581906480|                 NaN|     NaN| 20.54|512416379|4dfe2c67-e537-4dc...|\n",
      "|2019-11-01 00:00:...|      view|   4600658|2053013563944993659|appliances.kitche...| samsung|411.83|526595547|aab33a9a-29c3-4d5...|\n",
      "|2019-11-01 00:00:...|      view|  24900193|2053013562183385881|                 NaN|     NaN|  1.09|512651494|f603c815-f51a-46f...|\n",
      "|2019-11-01 00:00:...|      view|  27400066|2053013563391345499|                 NaN|     NaN|  8.55|551061950|3f6112f1-5695-4e8...|\n",
      "|2019-11-01 00:00:...|      view|   5100503|2053013553375346967|                 NaN|  xiaomi| 22.68|520037415|f54fa96a-f3f2-43a...|\n",
      "|2019-11-01 00:00:...|      view|   1004566|2053013555631882655|electronics.smart...|  huawei|164.84|566265908|52c2c76c-b79e-479...|\n",
      "|2019-11-01 00:00:...|      view|   1307115|2053013558920217191|  computers.notebook|      hp|411.59|514028527|df8184cc-3694-454...|\n",
      "+--------------------+----------+----------+-------------------+--------------------+--------+------+---------+--------------------+\n",
      "only showing top 20 rows\n",
      "\n"
     ]
    }
   ],
   "source": [
    "ec.show()"
   ]
  },
  {
   "cell_type": "markdown",
   "id": "cfdb7346",
   "metadata": {},
   "source": [
    "## Eliminação de observações com NaN na coluna category_code"
   ]
  },
  {
   "cell_type": "code",
   "execution_count": 4,
   "id": "39217270",
   "metadata": {},
   "outputs": [
    {
     "data": {
      "text/plain": [
       "[]"
      ]
     },
     "execution_count": 4,
     "metadata": {},
     "output_type": "execute_result"
    }
   ],
   "source": [
    "ec.filter(F.isnull(col(\"category_code\"))).head(5)"
   ]
  },
  {
   "cell_type": "code",
   "execution_count": 5,
   "id": "93071c5f",
   "metadata": {},
   "outputs": [],
   "source": [
    "# Remove observações com categoria nula\n",
    "ec_clean = ec.filter(~isnull(col(\"category_code\"))).filter(~isnan(col(\"category_code\")))"
   ]
  },
  {
   "cell_type": "code",
   "execution_count": 6,
   "id": "f313f3fa",
   "metadata": {},
   "outputs": [
    {
     "data": {
      "text/plain": [
       "(10000, 6259)"
      ]
     },
     "execution_count": 6,
     "metadata": {},
     "output_type": "execute_result"
    }
   ],
   "source": [
    "ec.count(), ec_clean.count()"
   ]
  },
  {
   "cell_type": "code",
   "execution_count": 7,
   "id": "67b057a5",
   "metadata": {},
   "outputs": [
    {
     "name": "stdout",
     "output_type": "stream",
     "text": [
      "+--------------------+----------+----------+-------------------+--------------------+-------+------+---------+--------------------+\n",
      "|          event_time|event_type|product_id|        category_id|       category_code|  brand| price|  user_id|        user_session|\n",
      "+--------------------+----------+----------+-------------------+--------------------+-------+------+---------+--------------------+\n",
      "|2019-11-01 00:00:...|      view|   1003461|2053013555631882655|electronics.smart...| xiaomi|489.07|520088904|4d3b30da-a5e4-49d...|\n",
      "|2019-11-01 00:00:...|      view|   5000088|2053013566100866035|appliances.sewing...| janome|293.65|530496790|8e5f4f83-366c-4f7...|\n",
      "|2019-11-01 00:00:...|      view|   3601530|2053013563810775923|appliances.kitche...|     lg|712.87|518085591|3bfb58cd-7892-48c...|\n",
      "|2019-11-01 00:00:...|      view|   1004775|2053013555631882655|electronics.smart...| xiaomi|183.27|558856683|313628f1-68b8-460...|\n",
      "|2019-11-01 00:00:...|      view|   1306894|2053013558920217191|  computers.notebook|     hp|360.09|520772685|816a59f3-f5ae-4cc...|\n",
      "|2019-11-01 00:00:...|      view|   1306421|2053013558920217191|  computers.notebook|     hp|514.56|514028527|df8184cc-3694-454...|\n",
      "|2019-11-01 00:00:...|      view|   1004258|2053013555631882655|electronics.smart...|  apple|732.07|532647354|d2d3d2c6-631d-489...|\n",
      "|2019-11-01 00:00:...|      view|  17200570|2053013559792632471|furniture.living_...|    NaN|437.33|518780843|aa806835-b14c-45a...|\n",
      "|2019-11-01 00:00:...|      view|   2701517|2053013563911439225|appliances.kitche...|    NaN|155.11|518427361|c89b0d96-247f-404...|\n",
      "|2019-11-01 00:00:...|      view|  16700260|2053013559901684381|furniture.kitchen...|    NaN| 31.64|566255262|173d7b72-1db7-463...|\n",
      "|2019-11-01 00:00:...|      view|   4600658|2053013563944993659|appliances.kitche...|samsung|411.83|526595547|aab33a9a-29c3-4d5...|\n",
      "|2019-11-01 00:00:...|      view|   1004566|2053013555631882655|electronics.smart...| huawei|164.84|566265908|52c2c76c-b79e-479...|\n",
      "|2019-11-01 00:00:...|      view|   1307115|2053013558920217191|  computers.notebook|     hp|411.59|514028527|df8184cc-3694-454...|\n",
      "|2019-11-01 00:00:...|      view|   1004708|2053013555631882655|electronics.smart...| huawei|151.99|566143627|aa610ab3-5c60-455...|\n",
      "|2019-11-01 00:00:...|      view|  17200558|2053013559792632471|furniture.living_...|    NaN|591.78|566280536|34e7a822-0b93-4a9...|\n",
      "|2019-11-01 00:00:...|      view|   1005115|2053013555631882655|electronics.smart...|  apple|949.47|562079864|0fe64462-83eb-413...|\n",
      "|2019-11-01 00:00:...|      view|   1307350|2053013558920217191|  computers.notebook|   acer|514.79|513741043|82f7f972-346a-41f...|\n",
      "|2019-11-01 00:00:...|      view|   1307340|2053013558920217191|  computers.notebook|   asus|360.34|520772685|816a59f3-f5ae-4cc...|\n",
      "|2019-11-01 00:00:...|      view|  16700826|2053013559901684381|furniture.kitchen...|   nika| 47.77|566255262|173d7b72-1db7-463...|\n",
      "|2019-11-01 00:00:...|      view|   4804194|2053013554658804075|electronics.audio...|   acme| 69.24|565731881|5d8cb7aa-ca44-470...|\n",
      "+--------------------+----------+----------+-------------------+--------------------+-------+------+---------+--------------------+\n",
      "only showing top 20 rows\n",
      "\n"
     ]
    }
   ],
   "source": [
    "ec_clean.show()"
   ]
  },
  {
   "cell_type": "markdown",
   "id": "2c6baf1b",
   "metadata": {},
   "source": [
    "---\n",
    "## Separação da categoria do produto em sub-categorias"
   ]
  },
  {
   "cell_type": "code",
   "execution_count": 8,
   "id": "94fd9089",
   "metadata": {},
   "outputs": [],
   "source": [
    "# Separação do category_code através do '.'\n",
    "split_col = split(ec_clean['category_code'], '\\.')\n",
    "\n",
    "# Separação do category_code em categoria e sub categorias\n",
    "ec_clean = ec_clean.withColumn('main_category', split_col.getItem(0)) \\\n",
    "       .withColumn('sub_category_1', split_col.getItem(1)) \\\n",
    "       .withColumn('sub_category_2', split_col.getItem(2))\n",
    "\n",
    "# Remoção da category_code original \n",
    "ec_clean = ec_clean.drop('category_code')"
   ]
  },
  {
   "cell_type": "code",
   "execution_count": 9,
   "id": "5ab87b3f",
   "metadata": {},
   "outputs": [
    {
     "name": "stdout",
     "output_type": "stream",
     "text": [
      "+--------------------+----------+----------+-------------------+-------+------+---------+--------------------+-------------+--------------+--------------+\n",
      "|          event_time|event_type|product_id|        category_id|  brand| price|  user_id|        user_session|main_category|sub_category_1|sub_category_2|\n",
      "+--------------------+----------+----------+-------------------+-------+------+---------+--------------------+-------------+--------------+--------------+\n",
      "|2019-11-01 00:00:...|      view|   1003461|2053013555631882655| xiaomi|489.07|520088904|4d3b30da-a5e4-49d...|  electronics|    smartphone|          NULL|\n",
      "|2019-11-01 00:00:...|      view|   5000088|2053013566100866035| janome|293.65|530496790|8e5f4f83-366c-4f7...|   appliances|sewing_machine|          NULL|\n",
      "|2019-11-01 00:00:...|      view|   3601530|2053013563810775923|     lg|712.87|518085591|3bfb58cd-7892-48c...|   appliances|       kitchen|        washer|\n",
      "|2019-11-01 00:00:...|      view|   1004775|2053013555631882655| xiaomi|183.27|558856683|313628f1-68b8-460...|  electronics|    smartphone|          NULL|\n",
      "|2019-11-01 00:00:...|      view|   1306894|2053013558920217191|     hp|360.09|520772685|816a59f3-f5ae-4cc...|    computers|      notebook|          NULL|\n",
      "|2019-11-01 00:00:...|      view|   1306421|2053013558920217191|     hp|514.56|514028527|df8184cc-3694-454...|    computers|      notebook|          NULL|\n",
      "|2019-11-01 00:00:...|      view|   1004258|2053013555631882655|  apple|732.07|532647354|d2d3d2c6-631d-489...|  electronics|    smartphone|          NULL|\n",
      "|2019-11-01 00:00:...|      view|  17200570|2053013559792632471|    NaN|437.33|518780843|aa806835-b14c-45a...|    furniture|   living_room|          sofa|\n",
      "|2019-11-01 00:00:...|      view|   2701517|2053013563911439225|    NaN|155.11|518427361|c89b0d96-247f-404...|   appliances|       kitchen| refrigerators|\n",
      "|2019-11-01 00:00:...|      view|  16700260|2053013559901684381|    NaN| 31.64|566255262|173d7b72-1db7-463...|    furniture|       kitchen|         chair|\n",
      "|2019-11-01 00:00:...|      view|   4600658|2053013563944993659|samsung|411.83|526595547|aab33a9a-29c3-4d5...|   appliances|       kitchen|    dishwasher|\n",
      "|2019-11-01 00:00:...|      view|   1004566|2053013555631882655| huawei|164.84|566265908|52c2c76c-b79e-479...|  electronics|    smartphone|          NULL|\n",
      "|2019-11-01 00:00:...|      view|   1307115|2053013558920217191|     hp|411.59|514028527|df8184cc-3694-454...|    computers|      notebook|          NULL|\n",
      "|2019-11-01 00:00:...|      view|   1004708|2053013555631882655| huawei|151.99|566143627|aa610ab3-5c60-455...|  electronics|    smartphone|          NULL|\n",
      "|2019-11-01 00:00:...|      view|  17200558|2053013559792632471|    NaN|591.78|566280536|34e7a822-0b93-4a9...|    furniture|   living_room|          sofa|\n",
      "|2019-11-01 00:00:...|      view|   1005115|2053013555631882655|  apple|949.47|562079864|0fe64462-83eb-413...|  electronics|    smartphone|          NULL|\n",
      "|2019-11-01 00:00:...|      view|   1307350|2053013558920217191|   acer|514.79|513741043|82f7f972-346a-41f...|    computers|      notebook|          NULL|\n",
      "|2019-11-01 00:00:...|      view|   1307340|2053013558920217191|   asus|360.34|520772685|816a59f3-f5ae-4cc...|    computers|      notebook|          NULL|\n",
      "|2019-11-01 00:00:...|      view|  16700826|2053013559901684381|   nika| 47.77|566255262|173d7b72-1db7-463...|    furniture|       kitchen|         chair|\n",
      "|2019-11-01 00:00:...|      view|   4804194|2053013554658804075|   acme| 69.24|565731881|5d8cb7aa-ca44-470...|  electronics|         audio|     headphone|\n",
      "+--------------------+----------+----------+-------------------+-------+------+---------+--------------------+-------------+--------------+--------------+\n",
      "only showing top 20 rows\n",
      "\n"
     ]
    }
   ],
   "source": [
    "ec_clean.show()"
   ]
  },
  {
   "cell_type": "code",
   "execution_count": 10,
   "id": "a71035f0",
   "metadata": {},
   "outputs": [
    {
     "name": "stdout",
     "output_type": "stream",
     "text": [
      "6259\n",
      "2886\n"
     ]
    }
   ],
   "source": [
    "# Number of observations with sub categories\n",
    "print(ec_clean.filter(~isnull(col(\"sub_category_1\"))).count())\n",
    "print(ec_clean.filter(~isnull(col(\"sub_category_2\"))).count())"
   ]
  },
  {
   "cell_type": "code",
   "execution_count": 11,
   "id": "566e5d45",
   "metadata": {},
   "outputs": [
    {
     "name": "stdout",
     "output_type": "stream",
     "text": [
      "+--------------------+----------+----------+-------------------+-----+-----+---------+--------------------+-------------+--------------+--------------+\n",
      "|          event_time|event_type|product_id|        category_id|brand|price|  user_id|        user_session|main_category|sub_category_1|sub_category_2|\n",
      "+--------------------+----------+----------+-------------------+-----+-----+---------+--------------------+-------------+--------------+--------------+\n",
      "|2019-11-01 00:44:...|      view|  25800007|2053013562292437791|omron|47.08|518484905|806e4279-33f2-43a...|     medicine|         tools|     tonometer|\n",
      "+--------------------+----------+----------+-------------------+-----+-----+---------+--------------------+-------------+--------------+--------------+\n",
      "\n"
     ]
    }
   ],
   "source": [
    "ec_clean.filter(col(\"main_category\")==\"medicine\").show()"
   ]
  },
  {
   "cell_type": "code",
   "execution_count": 12,
   "id": "efc2afc4",
   "metadata": {},
   "outputs": [
    {
     "data": {
      "text/plain": [
       "['electronics',\n",
       " 'appliances',\n",
       " 'furniture',\n",
       " 'computers',\n",
       " 'apparel',\n",
       " 'construction',\n",
       " 'auto',\n",
       " 'kids',\n",
       " 'sport',\n",
       " 'accessories']"
      ]
     },
     "execution_count": 12,
     "metadata": {},
     "output_type": "execute_result"
    }
   ],
   "source": [
    "top_10_cat = ec_clean.filter(col(\"event_type\") == \"view\") \\\n",
    "  .repartition(24, 'main_category')\\\n",
    "  .groupBy(\"main_category\") \\\n",
    "  .count() \\\n",
    "  .orderBy(\"count\", ascending=False) \\\n",
    "  .select(\"main_category\") \\\n",
    "  .collect()\n",
    "\n",
    "top_10_cat = [x[0] for x in top_10_cat][:10]\n",
    "top_10_cat"
   ]
  },
  {
   "cell_type": "markdown",
   "id": "e9b702e6",
   "metadata": {},
   "source": [
    "## Criação do dataframe para clientes"
   ]
  },
  {
   "cell_type": "code",
   "execution_count": 13,
   "id": "7766ae0a",
   "metadata": {},
   "outputs": [
    {
     "name": "stdout",
     "output_type": "stream",
     "text": [
      "+---------+-------------+-----+\n",
      "|  user_id|average_price|views|\n",
      "+---------+-------------+-----+\n",
      "|565404816|     1132.465|    2|\n",
      "|519277091|      1091.33|    1|\n",
      "|539701280|        345.2|   21|\n",
      "|566280946|       180.18|    1|\n",
      "|565921426|       165.26|    1|\n",
      "|566280676|        30.89|    1|\n",
      "|541781462|      203.877|   15|\n",
      "|566281299|       165.26|    1|\n",
      "|562958505|      171.543|    3|\n",
      "|512458378|      731.833|    8|\n",
      "|566281250|       287.83|    2|\n",
      "|512461324|       128.42|    1|\n",
      "|517119857|      334.783|    4|\n",
      "|516161337|      266.113|    9|\n",
      "|527396367|        42.99|    1|\n",
      "|566282003|      1348.61|    1|\n",
      "|543638253|      1029.37|    1|\n",
      "|512712071|      282.522|   13|\n",
      "|544248389|      195.246|    7|\n",
      "|513590282|       59.133|    8|\n",
      "+---------+-------------+-----+\n",
      "only showing top 20 rows\n",
      "\n"
     ]
    }
   ],
   "source": [
    "user_df = ec_clean.filter((col(\"event_type\") == \"view\") & (col(\"main_category\").isin(top_10_cat))) \\\n",
    "    .repartition(24, \"user_id\") \\\n",
    "    .groupBy(\"user_id\") \\\n",
    "    .agg(\n",
    "        avg(\"price\").alias(\"average_price\"),\n",
    "        count(\"*\").alias(\"views\")\n",
    "    ) \\\n",
    "    .withColumn(\"average_price\", round(col(\"average_price\"), 3))\n",
    "\n",
    "user_df.show()"
   ]
  },
  {
   "cell_type": "code",
   "execution_count": 14,
   "id": "037ae6e9",
   "metadata": {},
   "outputs": [
    {
     "name": "stdout",
     "output_type": "stream",
     "text": [
      "+---------+-------------+-----------+-----------+----------+---------+---------+-------+------------+----+----+-----+-----------+\n",
      "|  user_id|average_price|total_views|electronics|appliances|furniture|computers|apparel|construction|auto|kids|sport|accessories|\n",
      "+---------+-------------+-----------+-----------+----------+---------+---------+-------+------------+----+----+-----+-----------+\n",
      "|515761354|       141.55|          3|          0|         3|        0|        0|      0|           0|   0|   0|    0|          0|\n",
      "|565865924|       949.47|          1|          1|         0|        0|        0|      0|           0|   0|   0|    0|          0|\n",
      "|527322328|      197.797|          7|          0|         7|        0|        0|      0|           0|   0|   0|    0|          0|\n",
      "|553334193|       172.23|          1|          1|         0|        0|        0|      0|           0|   0|   0|    0|          0|\n",
      "|565921426|       165.26|          1|          1|         0|        0|        0|      0|           0|   0|   0|    0|          0|\n",
      "|541781462|      203.877|         15|         11|         0|        0|        0|      4|           0|   0|   0|    0|          0|\n",
      "|556226281|      185.108|          8|          8|         0|        0|        0|      0|           0|   0|   0|    0|          0|\n",
      "|566280399|       67.255|          2|          2|         0|        0|        0|      0|           0|   0|   0|    0|          0|\n",
      "|517081324|      135.692|          5|          0|         0|        0|        0|      0|           5|   0|   0|    0|          0|\n",
      "|514171705|     1459.529|         13|          3|         0|        0|       10|      0|           0|   0|   0|    0|          0|\n",
      "|549568904|        96.26|          2|          2|         0|        0|        0|      0|           0|   0|   0|    0|          0|\n",
      "|526595547|      531.949|          9|          0|         9|        0|        0|      0|           0|   0|   0|    0|          0|\n",
      "|513998949|       57.604|          7|          0|         0|        0|        0|      0|           5|   2|   0|    0|          0|\n",
      "|436701163|       128.42|          1|          1|         0|        0|        0|      0|           0|   0|   0|    0|          0|\n",
      "|543124499|      118.469|          8|          0|         0|        0|        8|      0|           0|   0|   0|    0|          0|\n",
      "|519902359|       15.913|          7|          7|         0|        0|        0|      0|           0|   0|   0|    0|          0|\n",
      "|566031393|       189.75|         24|         24|         0|        0|        0|      0|           0|   0|   0|    0|          0|\n",
      "|518427361|       155.11|          1|          0|         1|        0|        0|      0|           0|   0|   0|    0|          0|\n",
      "|566280536|       591.78|          1|          0|         0|        1|        0|      0|           0|   0|   0|    0|          0|\n",
      "|556727865|      418.529|         16|         16|         0|        0|        0|      0|           0|   0|   0|    0|          0|\n",
      "+---------+-------------+-----------+-----------+----------+---------+---------+-------+------------+----+----+-----+-----------+\n",
      "only showing top 20 rows\n",
      "\n"
     ]
    }
   ],
   "source": [
    "avg_price_df = ec_clean.filter((col(\"event_type\") == \"view\")) \\\n",
    " .groupBy(\"user_id\") \\\n",
    " .agg(round(avg(\"price\"), 3).alias(\"average_price\"),\n",
    "      count(\"*\").alias(\"total_views\"))\n",
    "\n",
    "pivot_views_df = ec_clean.filter(\n",
    "    (col(\"event_type\") == \"view\") & \n",
    "    (col(\"main_category\").isin(top_10_cat))\n",
    ").groupBy(\"user_id\") \\\n",
    " .pivot(\"main_category\", top_10_cat) \\\n",
    " .agg(count(\"*\"))\n",
    "\n",
    "user_df = avg_price_df.join(pivot_views_df, on=\"user_id\", how=\"left\")\n",
    "user_df = user_df.fillna(0)\n",
    "user_df.show()"
   ]
  },
  {
   "cell_type": "code",
   "execution_count": 15,
   "id": "9d93d85a",
   "metadata": {},
   "outputs": [
    {
     "data": {
      "text/plain": [
       "1462"
      ]
     },
     "execution_count": 15,
     "metadata": {},
     "output_type": "execute_result"
    }
   ],
   "source": [
    "user_df.count()"
   ]
  },
  {
   "cell_type": "code",
   "execution_count": 16,
   "id": "f02e285f",
   "metadata": {},
   "outputs": [],
   "source": [
    "# write in a parquet file\n",
    "user_df.write.parquet(data_dir + \"user_df.parquet\", mode=\"overwrite\")"
   ]
  },
  {
   "cell_type": "markdown",
   "id": "6ce0de3b",
   "metadata": {},
   "source": [
    "## Criação do dataframe para produtos"
   ]
  },
  {
   "cell_type": "code",
   "execution_count": 17,
   "id": "4c04ccb2",
   "metadata": {},
   "outputs": [
    {
     "ename": "NameError",
     "evalue": "name 'product_df' is not defined",
     "output_type": "error",
     "traceback": [
      "\u001b[31m---------------------------------------------------------------------------\u001b[39m",
      "\u001b[31mNameError\u001b[39m                                 Traceback (most recent call last)",
      "\u001b[36mCell\u001b[39m\u001b[36m \u001b[39m\u001b[32mIn[17]\u001b[39m\u001b[32m, line 1\u001b[39m\n\u001b[32m----> \u001b[39m\u001b[32m1\u001b[39m \u001b[43mproduct_df\u001b[49m \n",
      "\u001b[31mNameError\u001b[39m: name 'product_df' is not defined"
     ]
    }
   ],
   "source": [
    "product_df "
   ]
  }
 ],
 "metadata": {
  "kernelspec": {
   "display_name": "vscode_pyspark",
   "language": "python",
   "name": "vscode_pyspark"
  },
  "language_info": {
   "codemirror_mode": {
    "name": "ipython",
    "version": 3
   },
   "file_extension": ".py",
   "mimetype": "text/x-python",
   "name": "python",
   "nbconvert_exporter": "python",
   "pygments_lexer": "ipython3",
   "version": "3.11.12"
  }
 },
 "nbformat": 4,
 "nbformat_minor": 5
}
