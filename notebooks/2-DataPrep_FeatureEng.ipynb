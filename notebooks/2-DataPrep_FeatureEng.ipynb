{
 "cells": [
  {
   "cell_type": "markdown",
   "id": "03524023",
   "metadata": {},
   "source": [
    "<img src=\"https://www.iscte-iul.pt/assets/images/logo_iscte_detailed.svg\" style=\"width: 450px;margin-top:30px;\" align =\"center\">\n",
    "\n",
    "<div style= \"font-size: 35px;  margin-top:40px; font-weight:bold; font-family: 'Avenir Next LT Pro', sans-serif;\"><center>Data Preparation & Feature Engineering: <strong>E-Commerce</strong></center></div>\n",
    "<div style= \"font-size: 30px; font-weight:bold; font-family: 'Avenir Next LT Pro', sans-serif;\"><center>Organizing all variables and data to the models phase</center></div>\n",
    "\n",
    "<div style= \"font-size: 27px;font-weight:bold;line-height: 1.1; margin-top:40px; font-family: 'Avenir Next LT Pro', sans-serif;\"><center>Processamento e Modelação de Big Data 2024/2025</center></div> <br>\n",
    "\n",
    "   <div style= \"font-size: 20px;font-weight:bold; font-family: 'Avenir Next LT Pro', sans-serif;\"><center> Grupo 7:</center></div>\n",
    "   <div><center> Diogo Freitas | 104841 </center></div>\n",
    "   <div><center> João Francisco Botas | 104782 </center></div>\n",
    "   <div><center> Miguel Gonçalves | 105944 </center></div>\n",
    "   <div><center> Ricardo Galvão | 105285 </center></div>"
   ]
  },
  {
   "cell_type": "markdown",
   "id": "fd3d588d",
   "metadata": {},
   "source": [
    "### imports"
   ]
  },
  {
   "cell_type": "code",
   "execution_count": 1,
   "id": "e8499c14",
   "metadata": {},
   "outputs": [],
   "source": [
    "# Importações Básicas\n",
    "import pyspark\n",
    "import pyspark.sql.functions as F\n",
    "from pyspark.sql.functions import *\n",
    "from pyspark.sql.types import (\n",
    "    StructType, StructField,\n",
    "    StringType, LongType, DoubleType, TimestampType\n",
    ")\n",
    "import pandas as pd\n",
    "import numpy as np\n",
    "import os\n",
    "import sys\n",
    "import math\n",
    "from pyspark.sql import SparkSession\n",
    "from pyspark.context import SparkContext\n",
    "import matplotlib.pyplot as plt\n",
    "import pyarrow"
   ]
  },
  {
   "cell_type": "markdown",
   "id": "5aed948a",
   "metadata": {},
   "source": [
    "## 1. Recommendation Engine with PySpark"
   ]
  },
  {
   "cell_type": "code",
   "execution_count": 2,
   "id": "bb9bc006",
   "metadata": {},
   "outputs": [],
   "source": [
    "# Inicializa a sessão Spark\n",
    "spark = SparkSession.builder.appName(\"PMBD - Data Preparation and Data Engineering\") \\\n",
    "    .config(\"spark.sql.shuffle.partitions\", \"400\") \\\n",
    "    .config(\"spark.driver.maxResultSize\", \"4g\") \\\n",
    "    .config(\"spark.sql.execution.arrow.enabled\", \"true\") \\\n",
    "    .config(\"spark.driver.memory\", \"4g\") \\\n",
    "    .config(\"spark.executor.cores\", \"8\") \\\n",
    "    .config(\"spark.executor.memoryOverhead\", \"4g\") \\\n",
    "    .config(\"spark.executor.instances\", \"10\") \\\n",
    "    .getOrCreate()\n",
    "\n",
    "spark.sparkContext.setLogLevel(\"INFO\")  # Pode ser ajustado para \"INFO\" durante o desenvolvimento"
   ]
  },
  {
   "cell_type": "code",
   "execution_count": 3,
   "id": "bbb1d1fe",
   "metadata": {},
   "outputs": [
    {
     "name": "stdout",
     "output_type": "stream",
     "text": [
      "False\n"
     ]
    }
   ],
   "source": [
    "print(spark.sparkContext._jsc.sc().isStopped())  # False -> tudo bem; True -> Spark está desligado"
   ]
  },
  {
   "cell_type": "code",
   "execution_count": 4,
   "id": "182dc5b6",
   "metadata": {},
   "outputs": [],
   "source": [
    "data_dir = \"../data/\"\n",
    "\n",
    "dataProcessed_dir = data_dir + \"processed/\"\n",
    "dataRaw_dir = data_dir + \"raw/\"\n",
    "# Criar diretórios se não existirem\n",
    "os.makedirs(dataProcessed_dir, exist_ok=True)\n",
    "os.makedirs(dataRaw_dir, exist_ok=True)\n",
    "\n",
    "allData = False\n",
    "\n",
    "schema = StructType([\n",
    "    StructField(\"event_time\", TimestampType(), True),\n",
    "    StructField(\"event_type\", StringType(), True),\n",
    "    StructField(\"product_id\", LongType(), True),\n",
    "    StructField(\"category_id\", LongType(), True),\n",
    "    StructField(\"category_code\", StringType(), True),\n",
    "    StructField(\"brand\", StringType(), True),\n",
    "    StructField(\"price\", DoubleType(), True),\n",
    "    StructField(\"user_id\", LongType(), True),\n",
    "    StructField(\"user_session\", StringType(), True)\n",
    "])\n",
    "\n",
    "if allData:\n",
    "    # Lê o arquivo parquet completo - não recomendado para grandes volumes de dados\n",
    "    df = spark.read.parquet(dataRaw_dir + \"ec_total.parquet\", schema=schema)\n",
    "else:\n",
    "    # Lê o arquivo parquet em partes - recomendado para grandes volumes de dados\n",
    "    df_nov = spark.read.csv(dataRaw_dir + '2019-Nov.csv', schema=schema, header=True).limit(1000000)\n",
    "    # df_oct = spark.read.csv(dataRaw_dir + '2019-Oct.csv', schema=schema, header=True)"
   ]
  },
  {
   "cell_type": "code",
   "execution_count": 5,
   "id": "25fa9a88",
   "metadata": {},
   "outputs": [
    {
     "name": "stdout",
     "output_type": "stream",
     "text": [
      "root\n",
      " |-- event_time: timestamp (nullable = true)\n",
      " |-- event_type: string (nullable = true)\n",
      " |-- product_id: long (nullable = true)\n",
      " |-- category_id: long (nullable = true)\n",
      " |-- category_code: string (nullable = true)\n",
      " |-- brand: string (nullable = true)\n",
      " |-- price: double (nullable = true)\n",
      " |-- user_id: long (nullable = true)\n",
      " |-- user_session: string (nullable = true)\n",
      "\n"
     ]
    }
   ],
   "source": [
    "df_nov.printSchema()"
   ]
  },
  {
   "cell_type": "code",
   "execution_count": 6,
   "id": "f7e75340",
   "metadata": {},
   "outputs": [
    {
     "name": "stdout",
     "output_type": "stream",
     "text": [
      "+-------------------+----------+----------+-------------------+-------------------------+------+------+---------+------------------------------------+\n",
      "|event_time         |event_type|product_id|category_id        |category_code            |brand |price |user_id  |user_session                        |\n",
      "+-------------------+----------+----------+-------------------+-------------------------+------+------+---------+------------------------------------+\n",
      "|2019-11-01 00:00:00|view      |1003461   |2053013555631882655|electronics.smartphone   |xiaomi|489.07|520088904|4d3b30da-a5e4-49df-b1a8-ba5943f1dd33|\n",
      "|2019-11-01 00:00:00|view      |5000088   |2053013566100866035|appliances.sewing_machine|janome|293.65|530496790|8e5f4f83-366c-4f70-860e-ca7417414283|\n",
      "|2019-11-01 00:00:01|view      |17302664  |2053013553853497655|NULL                     |creed |28.31 |561587266|755422e7-9040-477b-9bd2-6a6e8fd97387|\n",
      "|2019-11-01 00:00:01|view      |3601530   |2053013563810775923|appliances.kitchen.washer|lg    |712.87|518085591|3bfb58cd-7892-48cc-8020-2f17e6de6e7f|\n",
      "|2019-11-01 00:00:01|view      |1004775   |2053013555631882655|electronics.smartphone   |xiaomi|183.27|558856683|313628f1-68b8-460d-84f6-cec7a8796ef2|\n",
      "+-------------------+----------+----------+-------------------+-------------------------+------+------+---------+------------------------------------+\n",
      "only showing top 5 rows\n",
      "\n"
     ]
    }
   ],
   "source": [
    "df_nov.show(5, truncate=False)"
   ]
  },
  {
   "cell_type": "code",
   "execution_count": 7,
   "id": "d5bf3585",
   "metadata": {},
   "outputs": [
    {
     "name": "stdout",
     "output_type": "stream",
     "text": [
      "+-------------------+----------+----------+-------------------+--------------------+--------+------+---------+--------------------+\n",
      "|         event_time|event_type|product_id|        category_id|       category_code|   brand| price|  user_id|        user_session|\n",
      "+-------------------+----------+----------+-------------------+--------------------+--------+------+---------+--------------------+\n",
      "|2019-11-01 00:00:00|      view|   1003461|2053013555631882655|electronics.smart...|  xiaomi|489.07|520088904|4d3b30da-a5e4-49d...|\n",
      "|2019-11-01 00:00:00|      view|   5000088|2053013566100866035|appliances.sewing...|  janome|293.65|530496790|8e5f4f83-366c-4f7...|\n",
      "|2019-11-01 00:00:01|      view|  17302664|2053013553853497655|                NULL|   creed| 28.31|561587266|755422e7-9040-477...|\n",
      "|2019-11-01 00:00:01|      view|   3601530|2053013563810775923|appliances.kitche...|      lg|712.87|518085591|3bfb58cd-7892-48c...|\n",
      "|2019-11-01 00:00:01|      view|   1004775|2053013555631882655|electronics.smart...|  xiaomi|183.27|558856683|313628f1-68b8-460...|\n",
      "|2019-11-01 00:00:01|      view|   1306894|2053013558920217191|  computers.notebook|      hp|360.09|520772685|816a59f3-f5ae-4cc...|\n",
      "|2019-11-01 00:00:01|      view|   1306421|2053013558920217191|  computers.notebook|      hp|514.56|514028527|df8184cc-3694-454...|\n",
      "|2019-11-01 00:00:02|      view|  15900065|2053013558190408249|                NULL| rondell| 30.86|518574284|5e6ef132-4d7c-473...|\n",
      "|2019-11-01 00:00:02|      view|  12708937|2053013553559896355|                NULL|michelin| 72.72|532364121|0a899268-31eb-46d...|\n",
      "|2019-11-01 00:00:02|      view|   1004258|2053013555631882655|electronics.smart...|   apple|732.07|532647354|d2d3d2c6-631d-489...|\n",
      "|2019-11-01 00:00:03|      view|  17200570|2053013559792632471|furniture.living_...|    NULL|437.33|518780843|aa806835-b14c-45a...|\n",
      "|2019-11-01 00:00:03|      view|   2701517|2053013563911439225|appliances.kitche...|    NULL|155.11|518427361|c89b0d96-247f-404...|\n",
      "|2019-11-01 00:00:03|      view|  16700260|2053013559901684381|furniture.kitchen...|    NULL| 31.64|566255262|173d7b72-1db7-463...|\n",
      "|2019-11-01 00:00:04|      view|  34600011|2060981320581906480|                NULL|    NULL| 20.54|512416379|4dfe2c67-e537-4dc...|\n",
      "|2019-11-01 00:00:05|      view|   4600658|2053013563944993659|appliances.kitche...| samsung|411.83|526595547|aab33a9a-29c3-4d5...|\n",
      "|2019-11-01 00:00:06|      view|  24900193|2053013562183385881|                NULL|    NULL|  1.09|512651494|f603c815-f51a-46f...|\n",
      "|2019-11-01 00:00:07|      view|  27400066|2053013563391345499|                NULL|    NULL|  8.55|551061950|3f6112f1-5695-4e8...|\n",
      "|2019-11-01 00:00:07|      view|   5100503|2053013553375346967|                NULL|  xiaomi| 22.68|520037415|f54fa96a-f3f2-43a...|\n",
      "|2019-11-01 00:00:07|      view|   1004566|2053013555631882655|electronics.smart...|  huawei|164.84|566265908|52c2c76c-b79e-479...|\n",
      "|2019-11-01 00:00:08|      view|   1307115|2053013558920217191|  computers.notebook|      hp|411.59|514028527|df8184cc-3694-454...|\n",
      "+-------------------+----------+----------+-------------------+--------------------+--------+------+---------+--------------------+\n",
      "only showing top 20 rows\n",
      "\n"
     ]
    }
   ],
   "source": [
    "ec = df_nov\n",
    "ec.show()"
   ]
  },
  {
   "cell_type": "markdown",
   "id": "cfdb7346",
   "metadata": {},
   "source": [
    "## 2. Eliminação de observações com NaN na coluna category_code"
   ]
  },
  {
   "cell_type": "code",
   "execution_count": 8,
   "id": "39217270",
   "metadata": {},
   "outputs": [
    {
     "data": {
      "text/plain": [
       "[Row(event_time=datetime.datetime(2019, 11, 1, 0, 0, 1), event_type='view', product_id=17302664, category_id=2053013553853497655, category_code=None, brand='creed', price=28.31, user_id=561587266, user_session='755422e7-9040-477b-9bd2-6a6e8fd97387'),\n",
       " Row(event_time=datetime.datetime(2019, 11, 1, 0, 0, 2), event_type='view', product_id=15900065, category_id=2053013558190408249, category_code=None, brand='rondell', price=30.86, user_id=518574284, user_session='5e6ef132-4d7c-4730-8c7f-85aa4082588f'),\n",
       " Row(event_time=datetime.datetime(2019, 11, 1, 0, 0, 2), event_type='view', product_id=12708937, category_id=2053013553559896355, category_code=None, brand='michelin', price=72.72, user_id=532364121, user_session='0a899268-31eb-46de-898d-09b2da950b24'),\n",
       " Row(event_time=datetime.datetime(2019, 11, 1, 0, 0, 4), event_type='view', product_id=34600011, category_id=2060981320581906480, category_code=None, brand=None, price=20.54, user_id=512416379, user_session='4dfe2c67-e537-4dc2-ae69-0b65263db091'),\n",
       " Row(event_time=datetime.datetime(2019, 11, 1, 0, 0, 6), event_type='view', product_id=24900193, category_id=2053013562183385881, category_code=None, brand=None, price=1.09, user_id=512651494, user_session='f603c815-f51a-46fe-9404-cb586e35edaf')]"
      ]
     },
     "execution_count": 8,
     "metadata": {},
     "output_type": "execute_result"
    }
   ],
   "source": [
    "ec.filter(F.isnull(col(\"category_code\"))).head(5)"
   ]
  },
  {
   "cell_type": "code",
   "execution_count": 9,
   "id": "93071c5f",
   "metadata": {},
   "outputs": [],
   "source": [
    "# Remove observações com categoria nula\n",
    "ec_clean = ec.filter(~isnull(col(\"category_code\"))).filter(~isnan(col(\"category_code\")))"
   ]
  },
  {
   "cell_type": "code",
   "execution_count": 10,
   "id": "f313f3fa",
   "metadata": {},
   "outputs": [
    {
     "data": {
      "text/plain": [
       "(1000000, 683023)"
      ]
     },
     "execution_count": 10,
     "metadata": {},
     "output_type": "execute_result"
    }
   ],
   "source": [
    "ec.count(), ec_clean.count()"
   ]
  },
  {
   "cell_type": "code",
   "execution_count": 11,
   "id": "67b057a5",
   "metadata": {},
   "outputs": [
    {
     "name": "stdout",
     "output_type": "stream",
     "text": [
      "+-------------------+----------+----------+-------------------+--------------------+-------+------+---------+--------------------+\n",
      "|         event_time|event_type|product_id|        category_id|       category_code|  brand| price|  user_id|        user_session|\n",
      "+-------------------+----------+----------+-------------------+--------------------+-------+------+---------+--------------------+\n",
      "|2019-11-01 00:00:00|      view|   1003461|2053013555631882655|electronics.smart...| xiaomi|489.07|520088904|4d3b30da-a5e4-49d...|\n",
      "|2019-11-01 00:00:00|      view|   5000088|2053013566100866035|appliances.sewing...| janome|293.65|530496790|8e5f4f83-366c-4f7...|\n",
      "|2019-11-01 00:00:01|      view|   3601530|2053013563810775923|appliances.kitche...|     lg|712.87|518085591|3bfb58cd-7892-48c...|\n",
      "|2019-11-01 00:00:01|      view|   1004775|2053013555631882655|electronics.smart...| xiaomi|183.27|558856683|313628f1-68b8-460...|\n",
      "|2019-11-01 00:00:01|      view|   1306894|2053013558920217191|  computers.notebook|     hp|360.09|520772685|816a59f3-f5ae-4cc...|\n",
      "|2019-11-01 00:00:01|      view|   1306421|2053013558920217191|  computers.notebook|     hp|514.56|514028527|df8184cc-3694-454...|\n",
      "|2019-11-01 00:00:02|      view|   1004258|2053013555631882655|electronics.smart...|  apple|732.07|532647354|d2d3d2c6-631d-489...|\n",
      "|2019-11-01 00:00:03|      view|  17200570|2053013559792632471|furniture.living_...|   NULL|437.33|518780843|aa806835-b14c-45a...|\n",
      "|2019-11-01 00:00:03|      view|   2701517|2053013563911439225|appliances.kitche...|   NULL|155.11|518427361|c89b0d96-247f-404...|\n",
      "|2019-11-01 00:00:03|      view|  16700260|2053013559901684381|furniture.kitchen...|   NULL| 31.64|566255262|173d7b72-1db7-463...|\n",
      "|2019-11-01 00:00:05|      view|   4600658|2053013563944993659|appliances.kitche...|samsung|411.83|526595547|aab33a9a-29c3-4d5...|\n",
      "|2019-11-01 00:00:07|      view|   1004566|2053013555631882655|electronics.smart...| huawei|164.84|566265908|52c2c76c-b79e-479...|\n",
      "|2019-11-01 00:00:08|      view|   1307115|2053013558920217191|  computers.notebook|     hp|411.59|514028527|df8184cc-3694-454...|\n",
      "|2019-11-01 00:00:08|      view|   1004708|2053013555631882655|electronics.smart...| huawei|151.99|566143627|aa610ab3-5c60-455...|\n",
      "|2019-11-01 00:00:08|      view|  17200558|2053013559792632471|furniture.living_...|   NULL|591.78|566280536|34e7a822-0b93-4a9...|\n",
      "|2019-11-01 00:00:10|      view|   1005115|2053013555631882655|electronics.smart...|  apple|949.47|562079864|0fe64462-83eb-413...|\n",
      "|2019-11-01 00:00:10|      view|   1307350|2053013558920217191|  computers.notebook|   acer|514.79|513741043|82f7f972-346a-41f...|\n",
      "|2019-11-01 00:00:11|      view|   1307340|2053013558920217191|  computers.notebook|   asus|360.34|520772685|816a59f3-f5ae-4cc...|\n",
      "|2019-11-01 00:00:12|      view|  16700826|2053013559901684381|furniture.kitchen...|   nika| 47.77|566255262|173d7b72-1db7-463...|\n",
      "|2019-11-01 00:00:13|      view|   4804194|2053013554658804075|electronics.audio...|   acme| 69.24|565731881|5d8cb7aa-ca44-470...|\n",
      "+-------------------+----------+----------+-------------------+--------------------+-------+------+---------+--------------------+\n",
      "only showing top 20 rows\n",
      "\n"
     ]
    }
   ],
   "source": [
    "ec_clean.show()"
   ]
  },
  {
   "cell_type": "markdown",
   "id": "2c6baf1b",
   "metadata": {},
   "source": [
    "## 3. Separação da categoria do produto em sub-categorias"
   ]
  },
  {
   "cell_type": "code",
   "execution_count": 12,
   "id": "94fd9089",
   "metadata": {},
   "outputs": [],
   "source": [
    "# Separação do category_code através do '.'\n",
    "split_col = split(ec_clean['category_code'], '\\.')\n",
    "\n",
    "# Separação do category_code em categoria e sub categorias\n",
    "ec_clean = ec_clean.withColumn('main_category', split_col.getItem(0)) \\\n",
    "       .withColumn('sub_category_1', split_col.getItem(1)) \\\n",
    "       .withColumn('sub_category_2', split_col.getItem(2))\n",
    "\n",
    "# Remoção da category_code original \n",
    "ec_clean = ec_clean.drop('category_code')"
   ]
  },
  {
   "cell_type": "code",
   "execution_count": 13,
   "id": "5ab87b3f",
   "metadata": {},
   "outputs": [
    {
     "name": "stdout",
     "output_type": "stream",
     "text": [
      "+-------------------+----------+----------+-------------------+-------+------+---------+--------------------+-------------+--------------+--------------+\n",
      "|         event_time|event_type|product_id|        category_id|  brand| price|  user_id|        user_session|main_category|sub_category_1|sub_category_2|\n",
      "+-------------------+----------+----------+-------------------+-------+------+---------+--------------------+-------------+--------------+--------------+\n",
      "|2019-11-01 00:00:00|      view|   1003461|2053013555631882655| xiaomi|489.07|520088904|4d3b30da-a5e4-49d...|  electronics|    smartphone|          NULL|\n",
      "|2019-11-01 00:00:00|      view|   5000088|2053013566100866035| janome|293.65|530496790|8e5f4f83-366c-4f7...|   appliances|sewing_machine|          NULL|\n",
      "|2019-11-01 00:00:01|      view|   3601530|2053013563810775923|     lg|712.87|518085591|3bfb58cd-7892-48c...|   appliances|       kitchen|        washer|\n",
      "|2019-11-01 00:00:01|      view|   1004775|2053013555631882655| xiaomi|183.27|558856683|313628f1-68b8-460...|  electronics|    smartphone|          NULL|\n",
      "|2019-11-01 00:00:01|      view|   1306894|2053013558920217191|     hp|360.09|520772685|816a59f3-f5ae-4cc...|    computers|      notebook|          NULL|\n",
      "|2019-11-01 00:00:01|      view|   1306421|2053013558920217191|     hp|514.56|514028527|df8184cc-3694-454...|    computers|      notebook|          NULL|\n",
      "|2019-11-01 00:00:02|      view|   1004258|2053013555631882655|  apple|732.07|532647354|d2d3d2c6-631d-489...|  electronics|    smartphone|          NULL|\n",
      "|2019-11-01 00:00:03|      view|  17200570|2053013559792632471|   NULL|437.33|518780843|aa806835-b14c-45a...|    furniture|   living_room|          sofa|\n",
      "|2019-11-01 00:00:03|      view|   2701517|2053013563911439225|   NULL|155.11|518427361|c89b0d96-247f-404...|   appliances|       kitchen| refrigerators|\n",
      "|2019-11-01 00:00:03|      view|  16700260|2053013559901684381|   NULL| 31.64|566255262|173d7b72-1db7-463...|    furniture|       kitchen|         chair|\n",
      "|2019-11-01 00:00:05|      view|   4600658|2053013563944993659|samsung|411.83|526595547|aab33a9a-29c3-4d5...|   appliances|       kitchen|    dishwasher|\n",
      "|2019-11-01 00:00:07|      view|   1004566|2053013555631882655| huawei|164.84|566265908|52c2c76c-b79e-479...|  electronics|    smartphone|          NULL|\n",
      "|2019-11-01 00:00:08|      view|   1307115|2053013558920217191|     hp|411.59|514028527|df8184cc-3694-454...|    computers|      notebook|          NULL|\n",
      "|2019-11-01 00:00:08|      view|   1004708|2053013555631882655| huawei|151.99|566143627|aa610ab3-5c60-455...|  electronics|    smartphone|          NULL|\n",
      "|2019-11-01 00:00:08|      view|  17200558|2053013559792632471|   NULL|591.78|566280536|34e7a822-0b93-4a9...|    furniture|   living_room|          sofa|\n",
      "|2019-11-01 00:00:10|      view|   1005115|2053013555631882655|  apple|949.47|562079864|0fe64462-83eb-413...|  electronics|    smartphone|          NULL|\n",
      "|2019-11-01 00:00:10|      view|   1307350|2053013558920217191|   acer|514.79|513741043|82f7f972-346a-41f...|    computers|      notebook|          NULL|\n",
      "|2019-11-01 00:00:11|      view|   1307340|2053013558920217191|   asus|360.34|520772685|816a59f3-f5ae-4cc...|    computers|      notebook|          NULL|\n",
      "|2019-11-01 00:00:12|      view|  16700826|2053013559901684381|   nika| 47.77|566255262|173d7b72-1db7-463...|    furniture|       kitchen|         chair|\n",
      "|2019-11-01 00:00:13|      view|   4804194|2053013554658804075|   acme| 69.24|565731881|5d8cb7aa-ca44-470...|  electronics|         audio|     headphone|\n",
      "+-------------------+----------+----------+-------------------+-------+------+---------+--------------------+-------------+--------------+--------------+\n",
      "only showing top 20 rows\n",
      "\n"
     ]
    }
   ],
   "source": [
    "ec_clean.show()"
   ]
  },
  {
   "cell_type": "code",
   "execution_count": 14,
   "id": "a71035f0",
   "metadata": {},
   "outputs": [
    {
     "name": "stdout",
     "output_type": "stream",
     "text": [
      "683023\n",
      "271616\n"
     ]
    }
   ],
   "source": [
    "# Number of observations with sub categories\n",
    "print(ec_clean.filter(~isnull(col(\"sub_category_1\"))).count())\n",
    "print(ec_clean.filter(~isnull(col(\"sub_category_2\"))).count())"
   ]
  },
  {
   "cell_type": "code",
   "execution_count": 15,
   "id": "566e5d45",
   "metadata": {},
   "outputs": [
    {
     "name": "stdout",
     "output_type": "stream",
     "text": [
      "+-------------------+----------+----------+-------------------+--------+------+---------+--------------------+-------------+--------------+--------------+\n",
      "|         event_time|event_type|product_id|        category_id|   brand| price|  user_id|        user_session|main_category|sub_category_1|sub_category_2|\n",
      "+-------------------+----------+----------+-------------------+--------+------+---------+--------------------+-------------+--------------+--------------+\n",
      "|2019-11-01 00:44:39|      view|  25800007|2053013562292437791|   omron| 47.08|518484905|806e4279-33f2-43a...|     medicine|         tools|     tonometer|\n",
      "|2019-11-01 01:57:09|      view|  25800033|2053013562292437791|csmedica| 30.69|543220642|16894153-47f1-49a...|     medicine|         tools|     tonometer|\n",
      "|2019-11-01 01:57:36|      view|  25800033|2053013562292437791|csmedica| 30.69|543220642|16894153-47f1-49a...|     medicine|         tools|     tonometer|\n",
      "|2019-11-01 02:06:19|      view|  25800003|2053013562292437791|   omron| 33.44|513335126|ad23271e-5fc6-406...|     medicine|         tools|     tonometer|\n",
      "|2019-11-01 02:07:31|      view|  25800003|2053013562292437791|   omron| 33.44|513335126|ad23271e-5fc6-406...|     medicine|         tools|     tonometer|\n",
      "|2019-11-01 02:08:23|      view|  25800003|2053013562292437791|   omron| 33.44|513335126|ad23271e-5fc6-406...|     medicine|         tools|     tonometer|\n",
      "|2019-11-01 02:15:36|      view|  25800005|2053013562292437791|   omron| 40.39|538236171|46b24f8f-3ea3-482...|     medicine|         tools|     tonometer|\n",
      "|2019-11-01 03:12:56|      view|  25800007|2053013562292437791|   omron| 47.08|512372136|d6079870-54a7-403...|     medicine|         tools|     tonometer|\n",
      "|2019-11-01 03:19:11|      view|  25800020|2053013562292437791|   omron| 91.64|517496446|4c0ccedb-caef-406...|     medicine|         tools|     tonometer|\n",
      "|2019-11-01 03:20:20|      view|  25800016|2053013562292437791|   omron|  43.4|517496446|4c0ccedb-caef-406...|     medicine|         tools|     tonometer|\n",
      "|2019-11-01 03:20:42|      view|  25800016|2053013562292437791|   omron|  43.4|517496446|4c0ccedb-caef-406...|     medicine|         tools|     tonometer|\n",
      "|2019-11-01 03:30:59|      view|  25800005|2053013562292437791|   omron| 40.39|542743485|d766f8ad-a8d4-43f...|     medicine|         tools|     tonometer|\n",
      "|2019-11-01 03:32:50|      view|  25800003|2053013562292437791|   omron| 33.44|557618606|73886daa-195c-45b...|     medicine|         tools|     tonometer|\n",
      "|2019-11-01 03:38:14|      view|  25800016|2053013562292437791|   omron|  43.4|515576517|af8c67e5-6251-40d...|     medicine|         tools|     tonometer|\n",
      "|2019-11-01 03:40:31|      view|  25800001|2053013562292437791|   omron| 28.06|519213000|d146d33f-c47f-46d...|     medicine|         tools|     tonometer|\n",
      "|2019-11-01 03:41:11|      view|  25800018|2053013562292437791|   omron|107.06|565918288|f4f75b35-bb11-4f0...|     medicine|         tools|     tonometer|\n",
      "|2019-11-01 03:41:25|      view|  25800016|2053013562292437791|   omron|  43.4|515576517|cf4fe6f6-8783-4bd...|     medicine|         tools|     tonometer|\n",
      "|2019-11-01 03:41:32|      view|  25800003|2053013562292437791|   omron| 33.44|519213000|d146d33f-c47f-46d...|     medicine|         tools|     tonometer|\n",
      "|2019-11-01 03:44:27|      view|  25800005|2053013562292437791|   omron| 40.39|515576517|04960feb-20b6-486...|     medicine|         tools|     tonometer|\n",
      "|2019-11-01 03:44:37|      view|  25800016|2053013562292437791|   omron|  43.4|515576517|04960feb-20b6-486...|     medicine|         tools|     tonometer|\n",
      "+-------------------+----------+----------+-------------------+--------+------+---------+--------------------+-------------+--------------+--------------+\n",
      "only showing top 20 rows\n",
      "\n"
     ]
    }
   ],
   "source": [
    "ec_clean.filter(col(\"main_category\")==\"medicine\").show()"
   ]
  },
  {
   "cell_type": "code",
   "execution_count": 16,
   "id": "efc2afc4",
   "metadata": {},
   "outputs": [
    {
     "data": {
      "text/plain": [
       "['electronics',\n",
       " 'appliances',\n",
       " 'computers',\n",
       " 'furniture',\n",
       " 'apparel',\n",
       " 'auto',\n",
       " 'construction',\n",
       " 'kids',\n",
       " 'accessories',\n",
       " 'sport']"
      ]
     },
     "execution_count": 16,
     "metadata": {},
     "output_type": "execute_result"
    }
   ],
   "source": [
    "top_10_cat = ec_clean.filter(col(\"event_type\") == \"view\") \\\n",
    "  .repartition(24, 'main_category')\\\n",
    "  .groupBy(\"main_category\") \\\n",
    "  .count() \\\n",
    "  .orderBy(\"count\", ascending=False) \\\n",
    "  .select(\"main_category\") \\\n",
    "  .collect()\n",
    "\n",
    "top_10_cat = [x[0] for x in top_10_cat][:10]\n",
    "top_10_cat"
   ]
  },
  {
   "cell_type": "markdown",
   "id": "e9b702e6",
   "metadata": {},
   "source": [
    "## 4. Criação do dataframe para clientes"
   ]
  },
  {
   "cell_type": "code",
   "execution_count": 17,
   "id": "7766ae0a",
   "metadata": {},
   "outputs": [
    {
     "name": "stdout",
     "output_type": "stream",
     "text": [
      "+---------+-------------+-----+\n",
      "|  user_id|average_price|views|\n",
      "+---------+-------------+-----+\n",
      "|565404816|     1132.465|    2|\n",
      "|519277091|      1091.33|    1|\n",
      "|539701280|      342.709|   23|\n",
      "|566280946|       180.18|    1|\n",
      "|565921426|       165.26|    1|\n",
      "|566280676|        30.89|    1|\n",
      "|541781462|      203.877|   15|\n",
      "|566281299|       165.26|    1|\n",
      "|562958505|      171.543|    3|\n",
      "|512458378|      731.833|    8|\n",
      "|566281250|       287.83|    2|\n",
      "|512461324|       128.42|    1|\n",
      "|517119857|      334.783|    4|\n",
      "|516161337|      266.113|    9|\n",
      "|527396367|        42.99|    1|\n",
      "|566282003|      1348.61|    1|\n",
      "|543638253|      1029.37|    1|\n",
      "|512712071|      301.934|   26|\n",
      "|544248389|      195.246|    7|\n",
      "|513590282|       59.133|    8|\n",
      "+---------+-------------+-----+\n",
      "only showing top 20 rows\n",
      "\n"
     ]
    }
   ],
   "source": [
    "user_df = ec_clean.filter((col(\"event_type\") == \"view\") & (col(\"main_category\").isin(top_10_cat))) \\\n",
    "    .repartition(24, \"user_id\") \\\n",
    "    .groupBy(\"user_id\") \\\n",
    "    .agg(\n",
    "        avg(\"price\").alias(\"average_price\"),\n",
    "        count(\"*\").alias(\"views\")\n",
    "    ) \\\n",
    "    .withColumn(\"average_price\", round(col(\"average_price\"), 3))\n",
    "\n",
    "user_df.show()"
   ]
  },
  {
   "cell_type": "code",
   "execution_count": 18,
   "id": "037ae6e9",
   "metadata": {},
   "outputs": [
    {
     "name": "stdout",
     "output_type": "stream",
     "text": [
      "+---------+-------------+-----------+-----------+----------+---------+---------+-------+----+------------+----+-----------+-----+\n",
      "|  user_id|average_price|total_views|electronics|appliances|computers|furniture|apparel|auto|construction|kids|accessories|sport|\n",
      "+---------+-------------+-----------+-----------+----------+---------+---------+-------+----+------------+----+-----------+-----+\n",
      "|513200477|       29.611|          9|          0|         9|        0|        0|      0|   0|           0|   0|          0|    0|\n",
      "|513741043|       514.79|          1|          0|         0|        1|        0|      0|   0|           0|   0|          0|    0|\n",
      "|514028527|      461.737|          7|          0|         0|        7|        0|      0|   0|           0|   0|          0|    0|\n",
      "|518085591|      399.635|         10|          0|         1|        0|        9|      0|   0|           0|   0|          0|    0|\n",
      "|518427361|       155.11|          1|          0|         1|        0|        0|      0|   0|           0|   0|          0|    0|\n",
      "|518780843|      137.028|          5|          0|         0|        0|        5|      0|   0|           0|   0|          0|    0|\n",
      "|520088904|      444.383|         17|          9|         0|        8|        0|      0|   0|           0|   0|          0|    0|\n",
      "|520772685|      432.336|         17|          0|         0|       17|        0|      0|   0|           0|   0|          0|    0|\n",
      "|526595547|      531.949|          9|          0|         9|        0|        0|      0|   0|           0|   0|          0|    0|\n",
      "|530496790|       293.65|          1|          0|         1|        0|        0|      0|   0|           0|   0|          0|    0|\n",
      "|532647354|       816.48|          9|          9|         0|        0|        0|      0|   0|           0|   0|          0|    0|\n",
      "|537931532|       386.08|          1|          1|         0|        0|        0|      0|   0|           0|   0|          0|    0|\n",
      "|549256216|      553.197|         19|         19|         0|        0|        0|      0|   0|           0|   0|          0|    0|\n",
      "|558856683|       183.27|          3|          3|         0|        0|        0|      0|   0|           0|   0|          0|    0|\n",
      "|562079864|       949.47|          1|          1|         0|        0|        0|      0|   0|           0|   0|          0|    0|\n",
      "|565731881|      389.813|          6|          6|         0|        0|        0|      0|   0|           0|   0|          0|    0|\n",
      "|566143627|       222.44|         12|         12|         0|        0|        0|      0|   0|           0|   0|          0|    0|\n",
      "|566255262|       69.591|         16|          0|         2|        0|       14|      0|   0|           0|   0|          0|    0|\n",
      "|566265908|      150.656|          5|          5|         0|        0|        0|      0|   0|           0|   0|          0|    0|\n",
      "|566278257|      114.322|          4|          0|         4|        0|        0|      0|   0|           0|   0|          0|    0|\n",
      "+---------+-------------+-----------+-----------+----------+---------+---------+-------+----+------------+----+-----------+-----+\n",
      "only showing top 20 rows\n",
      "\n"
     ]
    }
   ],
   "source": [
    "avg_price_df = ec_clean.filter((col(\"event_type\") == \"view\")) \\\n",
    " .groupBy(\"user_id\") \\\n",
    " .agg(round(avg(\"price\"), 3).alias(\"average_price\"),\n",
    "      count(\"*\").alias(\"total_views\"))\n",
    "\n",
    "pivot_views_df = ec_clean.filter(\n",
    "    (col(\"event_type\") == \"view\") & \n",
    "    (col(\"main_category\").isin(top_10_cat))\n",
    ").groupBy(\"user_id\") \\\n",
    " .pivot(\"main_category\", top_10_cat) \\\n",
    " .agg(count(\"*\"))\n",
    "\n",
    "user_df = avg_price_df.join(pivot_views_df, on=\"user_id\", how=\"left\")\n",
    "user_df = user_df.fillna(0)\n",
    "user_df.show()"
   ]
  },
  {
   "cell_type": "code",
   "execution_count": 19,
   "id": "9d93d85a",
   "metadata": {},
   "outputs": [
    {
     "data": {
      "text/plain": [
       "128528"
      ]
     },
     "execution_count": 19,
     "metadata": {},
     "output_type": "execute_result"
    }
   ],
   "source": [
    "user_df.count()"
   ]
  },
  {
   "cell_type": "code",
   "execution_count": 20,
   "id": "f02e285f",
   "metadata": {},
   "outputs": [],
   "source": [
    "# write in a parquet file\n",
    "user_df.write.parquet(data_dir + \"user_df.parquet\", mode=\"overwrite\")"
   ]
  },
  {
   "cell_type": "markdown",
   "id": "aa489be1",
   "metadata": {},
   "source": [
    "## 5. Tratamento dos dados para os algoritmos de recomendação"
   ]
  },
  {
   "cell_type": "code",
   "execution_count": 21,
   "id": "78189fd5",
   "metadata": {},
   "outputs": [
    {
     "data": {
      "text/html": [
       "<div>\n",
       "<style scoped>\n",
       "    .dataframe tbody tr th:only-of-type {\n",
       "        vertical-align: middle;\n",
       "    }\n",
       "\n",
       "    .dataframe tbody tr th {\n",
       "        vertical-align: top;\n",
       "    }\n",
       "\n",
       "    .dataframe thead th {\n",
       "        text-align: right;\n",
       "    }\n",
       "</style>\n",
       "<table border=\"1\" class=\"dataframe\">\n",
       "  <thead>\n",
       "    <tr style=\"text-align: right;\">\n",
       "      <th></th>\n",
       "      <th>event_type</th>\n",
       "      <th>count</th>\n",
       "    </tr>\n",
       "  </thead>\n",
       "  <tbody>\n",
       "    <tr>\n",
       "      <th>0</th>\n",
       "      <td>view</td>\n",
       "      <td>967225</td>\n",
       "    </tr>\n",
       "    <tr>\n",
       "      <th>1</th>\n",
       "      <td>cart</td>\n",
       "      <td>14958</td>\n",
       "    </tr>\n",
       "    <tr>\n",
       "      <th>2</th>\n",
       "      <td>purchase</td>\n",
       "      <td>17817</td>\n",
       "    </tr>\n",
       "  </tbody>\n",
       "</table>\n",
       "</div>"
      ],
      "text/plain": [
       "  event_type   count\n",
       "0       view  967225\n",
       "1       cart   14958\n",
       "2   purchase   17817"
      ]
     },
     "execution_count": 21,
     "metadata": {},
     "output_type": "execute_result"
    }
   ],
   "source": [
    "# Plot events distribution\n",
    "\n",
    "events = df_nov.groupBy('event_type').count().toPandas()\n",
    "events"
   ]
  },
  {
   "cell_type": "markdown",
   "id": "4623af95",
   "metadata": {},
   "source": [
    "### 5.1. Preprocess"
   ]
  },
  {
   "cell_type": "code",
   "execution_count": 22,
   "id": "60eb5fc6",
   "metadata": {},
   "outputs": [],
   "source": [
    "def preprocess(df):\n",
    "    \n",
    "    # Change data types\n",
    "    df = df.withColumn('event_time', to_timestamp('event_time'))\n",
    "    df = df.withColumn('user_id', col('user_id').cast('integer'))\n",
    "    df = df.withColumn('product_id', col('product_id').cast('integer'))\n",
    "    df = df.withColumn('category_id', col('category_id').cast('long'))\n",
    "    \n",
    "    # Limit the number of carts to 1 per session for each user-product pair\n",
    "    cart_df = df.filter(col('event_type') == 'cart')\n",
    "    df = df.filter(col('event_type') != 'cart')\n",
    "    cart_df = cart_df.dropDuplicates(subset=['product_id', 'user_id', 'user_session'])\n",
    "    df = df.union(cart_df)\n",
    "    \n",
    "    # Split category codes into sub categories\n",
    "    #df = df.withColumn('category', split(df['category_code'], '\\.').getItem(0)) \\\n",
    "    #   .withColumn('sub_category', split(df['category_code'], '\\.').getItem(1)) \\\n",
    "    #   .withColumn('sub_sub_category', split(df['category_code'], '\\.').getItem(2))\n",
    "\n",
    "    return df"
   ]
  },
  {
   "cell_type": "code",
   "execution_count": 23,
   "id": "8653df20",
   "metadata": {},
   "outputs": [
    {
     "name": "stdout",
     "output_type": "stream",
     "text": [
      "+-------------------+----------+----------+-------------------+-------------------------+------+------+---------+------------------------------------+\n",
      "|event_time         |event_type|product_id|category_id        |category_code            |brand |price |user_id  |user_session                        |\n",
      "+-------------------+----------+----------+-------------------+-------------------------+------+------+---------+------------------------------------+\n",
      "|2019-11-01 00:00:00|view      |1003461   |2053013555631882655|electronics.smartphone   |xiaomi|489.07|520088904|4d3b30da-a5e4-49df-b1a8-ba5943f1dd33|\n",
      "|2019-11-01 00:00:00|view      |5000088   |2053013566100866035|appliances.sewing_machine|janome|293.65|530496790|8e5f4f83-366c-4f70-860e-ca7417414283|\n",
      "|2019-11-01 00:00:01|view      |17302664  |2053013553853497655|NULL                     |creed |28.31 |561587266|755422e7-9040-477b-9bd2-6a6e8fd97387|\n",
      "|2019-11-01 00:00:01|view      |3601530   |2053013563810775923|appliances.kitchen.washer|lg    |712.87|518085591|3bfb58cd-7892-48cc-8020-2f17e6de6e7f|\n",
      "|2019-11-01 00:00:01|view      |1004775   |2053013555631882655|electronics.smartphone   |xiaomi|183.27|558856683|313628f1-68b8-460d-84f6-cec7a8796ef2|\n",
      "+-------------------+----------+----------+-------------------+-------------------------+------+------+---------+------------------------------------+\n",
      "only showing top 5 rows\n",
      "\n"
     ]
    }
   ],
   "source": [
    "df = preprocess(df_nov)\n",
    "df.show(5, truncate=False)"
   ]
  },
  {
   "cell_type": "markdown",
   "id": "4a5cea0d",
   "metadata": {},
   "source": [
    "### 5.2. Feature Engineering"
   ]
  },
  {
   "cell_type": "markdown",
   "id": "d7833038",
   "metadata": {},
   "source": [
    "Podemos extrair várias características para utilizadores, produtos e categorias utilizando os dados comportamentais:\n",
    "\n",
    "- **Visualizações/carrinhos/compras**: O número de vezes que um utilizador interagiu com um produto.\n",
    "\n",
    "- **Produtos distintos visualizados/adicionados ao carrinho/comprados**: O número de produtos únicos que um utilizador visualizou, adicionou ao carrinho ou comprou.\n",
    "\n",
    "- **Preço médio (relativo) visualizado/comprado**: O preço médio dos produtos que um utilizador visualizou ou comprou.\n",
    "\n",
    "- **Taxas de interação**: São características derivadas que fornecem informações sobre o comportamento dos utilizadores, como a taxa de compras por visualização, carrinho por visualização e compras por carrinho."
   ]
  },
  {
   "cell_type": "code",
   "execution_count": 24,
   "id": "9dc1459e",
   "metadata": {},
   "outputs": [],
   "source": [
    "def product_features(df):\n",
    "\n",
    "    # Calculate several metrics for products with the aggregate function\n",
    "    df = df.groupby('product_id').agg(first('category_id').alias('category_id'),\n",
    "                                      first('category_code').alias('category_code'),\n",
    "                                      count(when(df['event_type'] == 'view', True)).alias('views'),\n",
    "                                      count(when(df['event_type'] == 'cart', True)).alias('carts'),\n",
    "                                      count(when(df['event_type'] == 'purchase', True)).alias('purchases'),\n",
    "                                      mean('price').alias('price'),\n",
    "                                      min('event_time').alias('first_date'),\n",
    "                                      max('event_time').alias('last_date'))\n",
    "    \n",
    "    # Calculate interaction rates\n",
    "    df = df.withColumn('purchase_per_view', df['purchases'] / df['views'])\n",
    "    df = df.withColumn('cart_per_view', df['carts'] / df['views'])\n",
    "    df = df.withColumn('purchase_per_cart', when(df['carts'] == 0, df['purchases']).otherwise(df['purchases'] / df['carts']))\n",
    "    \n",
    "    return df"
   ]
  },
  {
   "cell_type": "code",
   "execution_count": 25,
   "id": "b233c899",
   "metadata": {},
   "outputs": [],
   "source": [
    "def category_features(df):\n",
    "    \n",
    "    # Calculate the average product price for each category\n",
    "    products = df.dropDuplicates(subset=['product_id'])\n",
    "    products = products.groupby('category_id').agg(avg('price').alias('average_price'))\n",
    "\n",
    "    # Calculate several metrics for categories with the aggregate function\n",
    "    df = df.groupby('category_id').agg(first('category_code').alias('category_code'),\n",
    "                                       countDistinct('product_id').alias('number_of_products'),\n",
    "                                       count(when(df['event_type'] == 'view', True)).alias('views'),\n",
    "                                       count(when(df['event_type'] == 'cart', True)).alias('carts'),\n",
    "                                       count(when(df['event_type'] == 'purchase', True)).alias('purchases'))\n",
    "    \n",
    "    # Calculate interaction rates\n",
    "    df = df.withColumn('purchase_per_view', df['purchases'] / df['views'])\n",
    "    df = df.withColumn('cart_per_view', df['carts'] / df['views'])\n",
    "    df = df.withColumn('purchase_per_cart', when(df['carts'] == 0, df['purchases']).otherwise(df['purchases'] / df['carts']))\n",
    "    \n",
    "    df = df.join(products, on='category_id')\n",
    "    \n",
    "    return df"
   ]
  },
  {
   "cell_type": "code",
   "execution_count": 26,
   "id": "ba52c599",
   "metadata": {},
   "outputs": [],
   "source": [
    "def user_features(df):\n",
    "\n",
    "    # Calculate several metrics for users with the aggregate function\n",
    "    df = df.groupby('user_id').agg(count(when(df['event_type'] == 'view', True)).alias('views'),\n",
    "                                   count(when(df['event_type'] == 'cart', True)).alias('carts'),\n",
    "                                   count(when(df['event_type'] == 'purchase', True)).alias('purchases'),\n",
    "                                   countDistinct(when(df['event_type'] == 'view', col('product_id'))).alias('distinct_products_viewed'),\n",
    "                                   countDistinct(when(df['event_type'] == 'cart', col('product_id'))).alias('distinct_products_carted'),\n",
    "                                   countDistinct(when(df['event_type'] == 'purchase', col('product_id'))).alias('distinct_products_purchased'),\n",
    "                                   mean(when(df['event_type'] == 'view', col('price'))).alias('average_price_viewed'),\n",
    "                                   mean(when(df['event_type'] == 'purchase', col('price'))).alias('average_price_purchased'),\n",
    "                                   mean(when(df['event_type'] == 'view', col('relative_price'))).alias('avg_relative_price_viewed'),\n",
    "                                   mean(when(df['event_type'] == 'purchase', col('relative_price'))).alias('avg_relative_price_purchased'),\n",
    "                                   min('event_time').alias('first_date'),\n",
    "                                   max('event_time').alias('last_date'))\n",
    "    \n",
    "    # Calculate interaction rates\n",
    "    df = df.withColumn('purchase_per_view', when(df['views'] == 0, df['purchases']).otherwise(df['purchases'] / df['views']))\n",
    "    df = df.withColumn('cart_per_view', when(df['views'] == 0, df['carts']).otherwise(df['carts'] / df['views']))\n",
    "    df = df.withColumn('purchase_per_cart', when(df['carts'] == 0, df['purchases']).otherwise(df['purchases'] / df['carts']))\n",
    "    \n",
    "    return df"
   ]
  },
  {
   "cell_type": "markdown",
   "id": "1c80e4dc",
   "metadata": {},
   "source": [
    "Alguns produtos e categorias têm muito poucas interações, o que torna as suas taxas de interação pouco fiáveis. Por exemplo, um produto que foi visualizado apenas 2 vezes e comprado 1 vez teria uma taxa de compras por visualização de 0.5, o que é muito elevado. Por isso, é importante aplicar *smoothing* para evitar *overfitting* em amostras pequenas.\n",
    "\n",
    "O *smoothing* funciona ao calcular uma média ponderada entre a taxa do produto e a taxa da categoria. O peso dado à taxa do produto depende do número de interações — quanto mais interações, maior o peso. O mesmo tipo de *smoothing* é aplicado às categorias, usando as taxas médias globais de interação."
   ]
  },
  {
   "cell_type": "code",
   "execution_count": 27,
   "id": "5743f1bf",
   "metadata": {},
   "outputs": [],
   "source": [
    "# Calculate smoothed rates for categories with small sample size using means of all products to combat overfitting\n",
    "    \n",
    "def category_smoothener(categories, mean, attr, rate, min_sample_size=1000):\n",
    "    \n",
    "    # Weighted average of category value and overall mean\n",
    "    categories = categories.withColumn(rate, when(categories[attr] < min_sample_size, ((categories[rate] * categories[attr]) + (mean * (min_sample_size - categories[attr]))) / min_sample_size).otherwise(categories[rate]))\n",
    "    \n",
    "    return categories"
   ]
  },
  {
   "cell_type": "code",
   "execution_count": 28,
   "id": "2083359d",
   "metadata": {},
   "outputs": [],
   "source": [
    "# Calculate smoothed rates for products with small sample size using category means to combat overfitting\n",
    "    \n",
    "def product_smoothener(products, categories, attr, rate, min_sample_size=1000):\n",
    "    \n",
    "    category_rate = rate + '_cat'\n",
    "    categories = categories.withColumnRenamed(rate, category_rate)\n",
    "    products = products.join(categories['category_id', category_rate], on='category_id')\n",
    "    \n",
    "    # Weighted average of product value and category value\n",
    "    products = products.withColumn(rate, when(products[attr] < min_sample_size, ((products[rate] * products[attr]) + (products[category_rate] * (min_sample_size - products[attr]))) / min_sample_size).otherwise(products[rate]))\n",
    "    \n",
    "    products = products.drop(category_rate)\n",
    "    return products"
   ]
  },
  {
   "cell_type": "markdown",
   "id": "15076b28",
   "metadata": {},
   "source": [
    "Devemos calcular o preço relativo de cada produto em relação à sua categoria, escalando o seu preço com base na mediana e no intervalo interquartil (IQR) dos preços dessa categoria. A mediana é usada como medida de tendência central e o IQR como medida de variabilidade.\n",
    "\n",
    "Este escalamento permite compensar diferenças nos intervalos de preços entre categorias, possibilitando uma comparação mais precisa e imparcial dos preços dos produtos. Os preços relativos serão usados para determinar se os utilizadores tendem a interagir com produtos mais baratos ou mais caros."
   ]
  },
  {
   "cell_type": "code",
   "execution_count": 29,
   "id": "b2864a5b",
   "metadata": {},
   "outputs": [],
   "source": [
    "# Calculate the price of each product relative to its category using the formula: (price - median) / IQR\n",
    "\n",
    "def calculate_relative_price(products):\n",
    "    \n",
    "    categories = products.groupby('category_id').agg(percentile_approx('price', 0.25, 1000).alias('Q1'),\n",
    "                                                     percentile_approx('price', 0.5, 1000).alias('median'),\n",
    "                                                     percentile_approx('price', 0.75, 1000).alias('Q3'))\n",
    "    # Interquartile range\n",
    "    categories = categories.withColumn('IQR', col('Q3') - col('Q1'))\n",
    "    categories = categories.withColumn('IQR', when(col('IQR') < 1, 1).otherwise(col('IQR')))\n",
    "    \n",
    "    # Calculate relative price\n",
    "    products = products.join(categories, on='category_id')\n",
    "    products = products.withColumn('relative_price', (col('price') - col('median')) / col('IQR'))\n",
    "    \n",
    "    # In order to avoid extreme values, set the max possible value to 5\n",
    "    products = products.withColumn('relative_price', when(col('relative_price') > 5, 5).otherwise(col('relative_price')))\n",
    "\n",
    "    # Set the min possible value to -5\n",
    "    products = products.withColumn('relative_price', when(col('relative_price') < -5, -5).otherwise(col('relative_price')))\n",
    "\n",
    "    products = products.select('product_id', 'relative_price')\n",
    "    return products"
   ]
  },
  {
   "cell_type": "code",
   "execution_count": 30,
   "id": "a213faf6",
   "metadata": {},
   "outputs": [
    {
     "name": "stdout",
     "output_type": "stream",
     "text": [
      "+----------+-------------------+----------------------+-----+-----+---------+------------------+-------------------+-------------------+--------------------+-------------+-----------------+\n",
      "|product_id|category_id        |category_code         |views|carts|purchases|price             |first_date         |last_date          |purchase_per_view   |cart_per_view|purchase_per_cart|\n",
      "+----------+-------------------+----------------------+-----+-----+---------+------------------+-------------------+-------------------+--------------------+-------------+-----------------+\n",
      "|1000978   |2053013555631882655|electronics.smartphone|11   |0    |0        |301.13999999999993|2019-11-01 03:42:18|2019-11-01 14:07:25|0.0                 |0.0          |0.0              |\n",
      "|1002100   |2053013555631882655|electronics.smartphone|147  |0    |1        |370.6399999999996 |2019-11-01 02:07:31|2019-11-01 15:31:42|0.006802721088435374|0.0          |1.0              |\n",
      "|1002102   |2053013555631882655|electronics.smartphone|4    |0    |0        |370.41            |2019-11-01 05:27:20|2019-11-01 09:01:07|0.0                 |0.0          |0.0              |\n",
      "|1002225   |2053013555631882655|electronics.smartphone|10   |0    |0        |82.37             |2019-11-01 02:57:42|2019-11-01 14:17:20|0.0                 |0.0          |0.0              |\n",
      "|1002525   |2053013555631882655|electronics.smartphone|35   |0    |1        |720.4799999999997 |2019-11-01 02:47:49|2019-11-01 15:19:52|0.02857142857142857 |0.0          |1.0              |\n",
      "+----------+-------------------+----------------------+-----+-----+---------+------------------+-------------------+-------------------+--------------------+-------------+-----------------+\n",
      "only showing top 5 rows\n",
      "\n"
     ]
    }
   ],
   "source": [
    "# Extract product and category features\n",
    "products = product_features(df)\n",
    "products.show(5, truncate=False)"
   ]
  },
  {
   "cell_type": "code",
   "execution_count": 31,
   "id": "41940017",
   "metadata": {},
   "outputs": [
    {
     "name": "stdout",
     "output_type": "stream",
     "text": [
      "+-------------------+-----------------------+------------------+-----+-----+---------+--------------------+--------------------+-----------------+------------------+\n",
      "|category_id        |category_code          |number_of_products|views|carts|purchases|purchase_per_view   |cart_per_view       |purchase_per_cart|average_price     |\n",
      "+-------------------+-----------------------+------------------+-----+-----+---------+--------------------+--------------------+-----------------+------------------+\n",
      "|2060237588744111062|NULL                   |2                 |33   |0    |0        |0.0                 |0.0                 |0.0              |734.4499999999999 |\n",
      "|2098563460336976001|construction.tools.pump|8                 |15   |0    |0        |0.0                 |0.0                 |0.0              |10.085            |\n",
      "|2053013564968403895|NULL                   |128               |593  |0    |5        |0.008431703204047217|0.0                 |5.0              |98.701171875      |\n",
      "|2134905039313961849|NULL                   |40                |223  |0    |0        |0.0                 |0.0                 |0.0              |39.9965           |\n",
      "|2095518906859913319|NULL                   |50                |336  |2    |5        |0.01488095238095238 |0.005952380952380952|2.5              |267.74980000000005|\n",
      "+-------------------+-----------------------+------------------+-----+-----+---------+--------------------+--------------------+-----------------+------------------+\n",
      "only showing top 5 rows\n",
      "\n"
     ]
    }
   ],
   "source": [
    "categories = category_features(df)\n",
    "categories.show(5, truncate=False)"
   ]
  },
  {
   "cell_type": "code",
   "execution_count": 32,
   "id": "26bf768b",
   "metadata": {},
   "outputs": [
    {
     "name": "stdout",
     "output_type": "stream",
     "text": [
      "+----------+-------------------+\n",
      "|product_id|relative_price     |\n",
      "+----------+-------------------+\n",
      "|8600043   |-0.5677202895991524|\n",
      "|8600234   |3.3114956736712    |\n",
      "|8600094   |0.40950026487727353|\n",
      "|8600147   |0.0                |\n",
      "|8600116   |-0.5449408440755783|\n",
      "+----------+-------------------+\n",
      "only showing top 5 rows\n",
      "\n"
     ]
    }
   ],
   "source": [
    "# Calculate relative prices and append it to the main dataframe and product features\n",
    "relative_prices = calculate_relative_price(products)\n",
    "relative_prices.show(5, truncate=False)"
   ]
  },
  {
   "cell_type": "code",
   "execution_count": 33,
   "id": "8a64d9fb",
   "metadata": {},
   "outputs": [
    {
     "name": "stdout",
     "output_type": "stream",
     "text": [
      "+----------+-------------------+----------+-------------------+-----------------------------+-------+------+---------+------------------------------------+--------------------+\n",
      "|product_id|event_time         |event_type|category_id        |category_code                |brand  |price |user_id  |user_session                        |relative_price      |\n",
      "+----------+-------------------+----------+-------------------+-----------------------------+-------+------+---------+------------------------------------+--------------------+\n",
      "|1004739   |2019-11-01 00:04:51|view      |2053013555631882655|electronics.smartphone       |xiaomi |203.09|534313202|86171b68-6479-4b53-b129-5be669c12493|-0.06399516343719788|\n",
      "|1004739   |2019-11-01 00:09:56|view      |2053013555631882655|electronics.smartphone       |xiaomi |203.09|561121118|9df1f0b8-7501-432b-b622-cc5fc3398faa|-0.06399516343719788|\n",
      "|3701000   |2019-11-01 00:11:06|view      |2053013565983425517|appliances.environment.vacuum|samsung|669.18|512689665|9b2cd507-f8e4-42a4-9d4f-0eae46fc19a2|2.2442804109470775  |\n",
      "|3701000   |2019-11-01 00:11:31|view      |2053013565983425517|appliances.environment.vacuum|samsung|669.18|512689665|9b2cd507-f8e4-42a4-9d4f-0eae46fc19a2|2.2442804109470775  |\n",
      "|3701000   |2019-11-01 00:12:57|view      |2053013565983425517|appliances.environment.vacuum|samsung|669.18|512689665|9b2cd507-f8e4-42a4-9d4f-0eae46fc19a2|2.2442804109470775  |\n",
      "+----------+-------------------+----------+-------------------+-----------------------------+-------+------+---------+------------------------------------+--------------------+\n",
      "only showing top 5 rows\n",
      "\n"
     ]
    }
   ],
   "source": [
    "df = df.join(relative_prices, on='product_id')\n",
    "df.show(5, truncate=False)"
   ]
  },
  {
   "cell_type": "code",
   "execution_count": 34,
   "id": "7b2e936a",
   "metadata": {},
   "outputs": [
    {
     "name": "stdout",
     "output_type": "stream",
     "text": [
      "+----------+-------------------+--------------------------+-----+-----+---------+------------------+-------------------+-------------------+-----------------+-------------+-----------------+-------------------+\n",
      "|product_id|category_id        |category_code             |views|carts|purchases|price             |first_date         |last_date          |purchase_per_view|cart_per_view|purchase_per_cart|relative_price     |\n",
      "+----------+-------------------+--------------------------+-----+-----+---------+------------------+-------------------+-------------------+-----------------+-------------+-----------------+-------------------+\n",
      "|8600043   |2053013552226107603|appliances.environment.fan|5    |0    |0        |14.13             |2019-11-01 08:13:34|2019-11-01 14:42:59|0.0              |0.0          |0.0              |-0.5677202895991524|\n",
      "|8600234   |2053013552226107603|appliances.environment.fan|3    |0    |0        |233.81000000000003|2019-11-01 08:12:36|2019-11-01 15:22:13|0.0              |0.0          |0.0              |3.3114956736712    |\n",
      "|8600094   |2053013552226107603|appliances.environment.fan|1    |0    |0        |69.47             |2019-11-01 06:16:01|2019-11-01 06:16:01|0.0              |0.0          |0.0              |0.40950026487727353|\n",
      "|8600147   |2053013552226107603|appliances.environment.fan|2    |0    |0        |46.28             |2019-11-01 13:46:33|2019-11-01 15:24:06|0.0              |0.0          |0.0              |0.0                |\n",
      "|8600116   |2053013552226107603|appliances.environment.fan|4    |0    |0        |15.42             |2019-11-01 08:57:04|2019-11-01 14:22:00|0.0              |0.0          |0.0              |-0.5449408440755783|\n",
      "+----------+-------------------+--------------------------+-----+-----+---------+------------------+-------------------+-------------------+-----------------+-------------+-----------------+-------------------+\n",
      "only showing top 5 rows\n",
      "\n"
     ]
    }
   ],
   "source": [
    "products = products.join(relative_prices, on='product_id')\n",
    "products.show(5, truncate=False)"
   ]
  },
  {
   "cell_type": "code",
   "execution_count": 35,
   "id": "6d3ee785",
   "metadata": {},
   "outputs": [],
   "source": [
    "# Calculate the average interaction rates for all products to smooth category features with low interaction\n",
    "\n",
    "avg_purchase_per_view = events[events['event_type'] == 'purchase']['count'].values[0] / events[events['event_type'] == 'view']['count'].values[0]\n",
    "avg_cart_per_view = events[events['event_type'] == 'cart']['count'].values[0] / events[events['event_type'] == 'view']['count'].values[0]\n",
    "avg_purchase_per_cart = events[events['event_type'] == 'purchase']['count'].values[0] / events[events['event_type'] == 'cart']['count'].values[0]\n",
    "\n",
    "categories = category_smoothener(categories, avg_purchase_per_view, 'views', 'purchase_per_view', 2000)\n",
    "categories = category_smoothener(categories, avg_cart_per_view, 'views', 'cart_per_view', 2000)\n",
    "categories = category_smoothener(categories, avg_purchase_per_cart, 'carts', 'purchase_per_cart', 200)"
   ]
  },
  {
   "cell_type": "code",
   "execution_count": 36,
   "id": "96842f59",
   "metadata": {},
   "outputs": [],
   "source": [
    "# Smooth product features with low interaction using corresponding category features\n",
    "\n",
    "products = product_smoothener(products, categories, 'views', 'purchase_per_view', 1000)\n",
    "products = product_smoothener(products, categories, 'views', 'cart_per_view', 1000)\n",
    "products = product_smoothener(products, categories, 'carts', 'purchase_per_cart', 100)"
   ]
  },
  {
   "cell_type": "code",
   "execution_count": 37,
   "id": "3b58dcd9",
   "metadata": {},
   "outputs": [
    {
     "name": "stdout",
     "output_type": "stream",
     "text": [
      "+---------+-----+-----+---------+------------------------+------------------------+---------------------------+--------------------+-----------------------+-------------------------+----------------------------+-------------------+-------------------+-----------------+-------------+-----------------+\n",
      "|user_id  |views|carts|purchases|distinct_products_viewed|distinct_products_carted|distinct_products_purchased|average_price_viewed|average_price_purchased|avg_relative_price_viewed|avg_relative_price_purchased|first_date         |last_date          |purchase_per_view|cart_per_view|purchase_per_cart|\n",
      "+---------+-----+-----+---------+------------------------+------------------------+---------------------------+--------------------+-----------------------+-------------------------+----------------------------+-------------------+-------------------+-----------------+-------------+-----------------+\n",
      "|563247292|2    |0    |0        |2                       |0                       |0                          |297.175             |NULL                   |0.16756044821815197      |NULL                        |2019-11-01 07:11:37|2019-11-01 07:15:46|0.0              |0.0          |0.0              |\n",
      "|562287563|35   |0    |0        |26                      |0                       |0                          |16.421714285714284  |NULL                   |-0.2452560886725972      |NULL                        |2019-11-01 10:48:02|2019-11-01 11:15:03|0.0              |0.0          |0.0              |\n",
      "|513097115|3    |0    |0        |3                       |0                       |0                          |53.28333333333333   |NULL                   |-0.6465187851283857      |NULL                        |2019-11-01 10:37:14|2019-11-01 10:38:47|0.0              |0.0          |0.0              |\n",
      "|514063917|2    |0    |0        |2                       |0                       |0                          |182.03500000000003  |NULL                   |-0.11193260811608248     |NULL                        |2019-11-01 05:59:44|2019-11-01 06:00:27|0.0              |0.0          |0.0              |\n",
      "|512492457|13   |0    |0        |5                       |0                       |0                          |371.8123076923076   |NULL                   |1.075674507002204        |NULL                        |2019-11-01 13:01:30|2019-11-01 13:18:16|0.0              |0.0          |0.0              |\n",
      "+---------+-----+-----+---------+------------------------+------------------------+---------------------------+--------------------+-----------------------+-------------------------+----------------------------+-------------------+-------------------+-----------------+-------------+-----------------+\n",
      "only showing top 5 rows\n",
      "\n"
     ]
    }
   ],
   "source": [
    "# Extract user features\n",
    "\n",
    "users = user_features(df)\n",
    "users.show(5, truncate=False)"
   ]
  },
  {
   "cell_type": "code",
   "execution_count": 38,
   "id": "75929247",
   "metadata": {},
   "outputs": [
    {
     "data": {
      "text/html": [
       "<div>\n",
       "<style scoped>\n",
       "    .dataframe tbody tr th:only-of-type {\n",
       "        vertical-align: middle;\n",
       "    }\n",
       "\n",
       "    .dataframe tbody tr th {\n",
       "        vertical-align: top;\n",
       "    }\n",
       "\n",
       "    .dataframe thead th {\n",
       "        text-align: right;\n",
       "    }\n",
       "</style>\n",
       "<table border=\"1\" class=\"dataframe\">\n",
       "  <thead>\n",
       "    <tr style=\"text-align: right;\">\n",
       "      <th></th>\n",
       "      <th>category_id</th>\n",
       "      <th>product_id</th>\n",
       "      <th>category_code</th>\n",
       "      <th>views</th>\n",
       "      <th>carts</th>\n",
       "      <th>purchases</th>\n",
       "      <th>price</th>\n",
       "      <th>first_date</th>\n",
       "      <th>last_date</th>\n",
       "      <th>purchase_per_view</th>\n",
       "      <th>cart_per_view</th>\n",
       "      <th>purchase_per_cart</th>\n",
       "      <th>relative_price</th>\n",
       "    </tr>\n",
       "  </thead>\n",
       "  <tbody>\n",
       "    <tr>\n",
       "      <th>0</th>\n",
       "      <td>2053013555631882655</td>\n",
       "      <td>1004856</td>\n",
       "      <td>electronics.smartphone</td>\n",
       "      <td>10307</td>\n",
       "      <td>519</td>\n",
       "      <td>780</td>\n",
       "      <td>128.318487</td>\n",
       "      <td>2019-11-01 00:00:23</td>\n",
       "      <td>2019-11-01 15:32:04</td>\n",
       "      <td>0.075677</td>\n",
       "      <td>0.050354</td>\n",
       "      <td>1.502890</td>\n",
       "      <td>-0.242941</td>\n",
       "    </tr>\n",
       "    <tr>\n",
       "      <th>1</th>\n",
       "      <td>2053013555631882655</td>\n",
       "      <td>1004767</td>\n",
       "      <td>electronics.smartphone</td>\n",
       "      <td>9033</td>\n",
       "      <td>442</td>\n",
       "      <td>503</td>\n",
       "      <td>242.379504</td>\n",
       "      <td>2019-11-01 00:00:30</td>\n",
       "      <td>2019-11-01 15:32:07</td>\n",
       "      <td>0.055685</td>\n",
       "      <td>0.048932</td>\n",
       "      <td>1.138009</td>\n",
       "      <td>0.035576</td>\n",
       "    </tr>\n",
       "    <tr>\n",
       "      <th>2</th>\n",
       "      <td>2053013555631882655</td>\n",
       "      <td>1005115</td>\n",
       "      <td>electronics.smartphone</td>\n",
       "      <td>9181</td>\n",
       "      <td>389</td>\n",
       "      <td>430</td>\n",
       "      <td>946.502500</td>\n",
       "      <td>2019-11-01 00:00:10</td>\n",
       "      <td>2019-11-01 15:32:06</td>\n",
       "      <td>0.046836</td>\n",
       "      <td>0.042370</td>\n",
       "      <td>1.105398</td>\n",
       "      <td>1.754920</td>\n",
       "    </tr>\n",
       "    <tr>\n",
       "      <th>3</th>\n",
       "      <td>2053013555631882655</td>\n",
       "      <td>1004833</td>\n",
       "      <td>electronics.smartphone</td>\n",
       "      <td>5009</td>\n",
       "      <td>311</td>\n",
       "      <td>375</td>\n",
       "      <td>171.951703</td>\n",
       "      <td>2019-11-01 00:00:49</td>\n",
       "      <td>2019-11-01 15:32:05</td>\n",
       "      <td>0.074865</td>\n",
       "      <td>0.062088</td>\n",
       "      <td>1.205788</td>\n",
       "      <td>-0.136396</td>\n",
       "    </tr>\n",
       "    <tr>\n",
       "      <th>4</th>\n",
       "      <td>2053013555631882655</td>\n",
       "      <td>1002544</td>\n",
       "      <td>electronics.smartphone</td>\n",
       "      <td>4568</td>\n",
       "      <td>235</td>\n",
       "      <td>299</td>\n",
       "      <td>458.266535</td>\n",
       "      <td>2019-11-01 00:00:14</td>\n",
       "      <td>2019-11-01 15:31:53</td>\n",
       "      <td>0.065455</td>\n",
       "      <td>0.051445</td>\n",
       "      <td>1.272340</td>\n",
       "      <td>0.562734</td>\n",
       "    </tr>\n",
       "  </tbody>\n",
       "</table>\n",
       "</div>"
      ],
      "text/plain": [
       "           category_id  product_id           category_code  views  carts  \\\n",
       "0  2053013555631882655     1004856  electronics.smartphone  10307    519   \n",
       "1  2053013555631882655     1004767  electronics.smartphone   9033    442   \n",
       "2  2053013555631882655     1005115  electronics.smartphone   9181    389   \n",
       "3  2053013555631882655     1004833  electronics.smartphone   5009    311   \n",
       "4  2053013555631882655     1002544  electronics.smartphone   4568    235   \n",
       "\n",
       "   purchases       price          first_date           last_date  \\\n",
       "0        780  128.318487 2019-11-01 00:00:23 2019-11-01 15:32:04   \n",
       "1        503  242.379504 2019-11-01 00:00:30 2019-11-01 15:32:07   \n",
       "2        430  946.502500 2019-11-01 00:00:10 2019-11-01 15:32:06   \n",
       "3        375  171.951703 2019-11-01 00:00:49 2019-11-01 15:32:05   \n",
       "4        299  458.266535 2019-11-01 00:00:14 2019-11-01 15:31:53   \n",
       "\n",
       "   purchase_per_view  cart_per_view  purchase_per_cart  relative_price  \n",
       "0           0.075677       0.050354           1.502890       -0.242941  \n",
       "1           0.055685       0.048932           1.138009        0.035576  \n",
       "2           0.046836       0.042370           1.105398        1.754920  \n",
       "3           0.074865       0.062088           1.205788       -0.136396  \n",
       "4           0.065455       0.051445           1.272340        0.562734  "
      ]
     },
     "execution_count": 38,
     "metadata": {},
     "output_type": "execute_result"
    }
   ],
   "source": [
    "# Top 5 products in terms of purchases\n",
    "\n",
    "products.sort('purchases', ascending=False).toPandas().head(5)"
   ]
  },
  {
   "cell_type": "code",
   "execution_count": 39,
   "id": "78bdf8be",
   "metadata": {},
   "outputs": [],
   "source": [
    "# write in a parquet file\n",
    "products.write.parquet(dataProcessed_dir + \"products.parquet\", mode=\"overwrite\")\n",
    "users.write.parquet(dataProcessed_dir + \"users.parquet\", mode=\"overwrite\")\n",
    "categories.write.parquet(dataProcessed_dir + \"categories.parquet\", mode=\"overwrite\")\n",
    "df.write.parquet(dataProcessed_dir + \"ec.parquet\", mode=\"overwrite\")"
   ]
  },
  {
   "cell_type": "code",
   "execution_count": 40,
   "id": "b2f6deca",
   "metadata": {},
   "outputs": [],
   "source": [
    "spark.catalog.clearCache()"
   ]
  }
 ],
 "metadata": {
  "kernelspec": {
   "display_name": "vscode_pyspark",
   "language": "python",
   "name": "python3"
  },
  "language_info": {
   "codemirror_mode": {
    "name": "ipython",
    "version": 3
   },
   "file_extension": ".py",
   "mimetype": "text/x-python",
   "name": "python",
   "nbconvert_exporter": "python",
   "pygments_lexer": "ipython3",
   "version": "3.11.12"
  }
 },
 "nbformat": 4,
 "nbformat_minor": 5
}
