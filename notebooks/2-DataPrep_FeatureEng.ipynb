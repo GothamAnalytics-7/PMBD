{
 "cells": [
  {
   "cell_type": "markdown",
   "id": "03524023",
   "metadata": {},
   "source": [
    "<img src=\"https://www.iscte-iul.pt/assets/images/logo_iscte_detailed.svg\" style=\"width: 450px;margin-top:30px;\" align =\"center\">\n",
    "\n",
    "<div style= \"font-size: 35px;  margin-top:40px; font-weight:bold; font-family: 'Avenir Next LT Pro', sans-serif;\"><center>Data Preparation & Feature Engineering: <strong>E-Commerce</strong></center></div>\n",
    "<div style= \"font-size: 30px; font-weight:bold; font-family: 'Avenir Next LT Pro', sans-serif;\"><center>Organizing all variables and data to the models phase</center></div>\n",
    "\n",
    "<div style= \"font-size: 27px;font-weight:bold;line-height: 1.1; margin-top:40px; font-family: 'Avenir Next LT Pro', sans-serif;\"><center>Processamento e Modelação de Big Data 2024/2025</center></div> <br>\n",
    "\n",
    "   <div style= \"font-size: 20px;font-weight:bold; font-family: 'Avenir Next LT Pro', sans-serif;\"><center> Grupo 7:</center></div>\n",
    "   <div><center> Diogo Freitas | 104841 </center></div>\n",
    "   <div><center> João Francisco Botas | 104782 </center></div>\n",
    "   <div><center> Miguel Gonçalves | 105944 </center></div>\n",
    "   <div><center> Ricardo Galvão | 105285 </center></div>"
   ]
  },
  {
   "cell_type": "code",
   "execution_count": null,
   "id": "1adeaa65",
   "metadata": {},
   "outputs": [],
   "source": [
    "# Basic imports\n",
    "import pyspark\n",
    "import pandas as pd\n",
    "from pyspark.sql import SparkSession, Row\n",
    "import pyspark.sql.functions as F, split\n",
    "from pyspark.sql.types import (\n",
    "    StructType, StructField,\n",
    "    StringType, LongType, DoubleType, TimestampType\n",
    ")\n",
    "\n",
    "\n",
    "# Create a Spark session\n",
    "spark = SparkSession.builder \\\n",
    "    .appName(\"Projeto\") \\\n",
    "    .getOrCreate()"
   ]
  },
  {
   "cell_type": "code",
   "execution_count": null,
   "id": "21c5bfcb",
   "metadata": {},
   "outputs": [],
   "source": [
    "# Criação da Sessão\n",
    "spark = SparkSession.builder.appName(\"Projeto\").getOrCreate()\n",
    "\n",
    "# Leitura de dados\n",
    "data_dir = '../data/'\n",
    "file_ec = data_dir + '2019-Nov.csv'\n",
    "\n",
    "# Carrega as primeiras 10.000 linhas\n",
    "ec_pandas = pd.read_csv(file_ec, nrows=10000)\n",
    "\n",
    "# Converte para Spark\n",
    "ec = spark.createDataFrame(ec_pandas)"
   ]
  },
  {
   "cell_type": "code",
   "execution_count": null,
   "id": "d5bf3585",
   "metadata": {},
   "outputs": [],
   "source": [
    "ec.show()"
   ]
  },
  {
   "cell_type": "markdown",
   "id": "2c6baf1b",
   "metadata": {},
   "source": [
    "---\n",
    "## Separação da categoria do produto em sub-categorias"
   ]
  },
  {
   "cell_type": "code",
   "execution_count": null,
   "id": "94fd9089",
   "metadata": {},
   "outputs": [],
   "source": [
    "# Separação do category_code através do '.'\n",
    "split_col = split(ec['category_code'], '\\.')\n",
    "\n",
    "# Separação do category_code em categoria e sub categorias\n",
    "ec = ec.withColumn('main_category', split_col.getItem(0)) \\\n",
    "       .withColumn('sub_category_1', split_col.getItem(1)) \\\n",
    "       .withColumn('sub_category_2', split_col.getItem(2))\n",
    "\n",
    "# Remoção da category_code original \n",
    "ec = ec.drop('category_code')"
   ]
  },
  {
   "cell_type": "code",
   "execution_count": null,
   "id": "5ab87b3f",
   "metadata": {},
   "outputs": [],
   "source": [
    "ec.show()"
   ]
  }
 ],
 "metadata": {
  "kernelspec": {
   "display_name": "vscode_pyspark",
   "language": "python",
   "name": "python3"
  },
  "language_info": {
   "name": "python",
   "version": "3.11.11"
  }
 },
 "nbformat": 4,
 "nbformat_minor": 5
}
