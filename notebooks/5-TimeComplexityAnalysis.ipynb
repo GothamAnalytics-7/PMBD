{
 "cells": [
  {
   "cell_type": "code",
   "execution_count": 1,
   "id": "8e90be10",
   "metadata": {},
   "outputs": [],
   "source": [
    "import pyspark\n",
    "from pyspark.sql import SparkSession\n",
    "import pyspark.sql.functions as F\n",
    "from pyspark.sql.types import (\n",
    "    StructType, StructField,\n",
    "    StringType, LongType, DoubleType, TimestampType\n",
    ")\n",
    "\n",
    "# Create a Spark session\n",
    "spark = SparkSession.builder \\\n",
    "    .appName(\"PMBD\") \\\n",
    "    .config(\"spark.executor.memory\", \"4g\") \\\n",
    "    .config(\"spark.driver.memory\", \"4g\") \\\n",
    "    .getOrCreate()\n"
   ]
  },
  {
   "cell_type": "code",
   "execution_count": 2,
   "id": "2b7fd536",
   "metadata": {},
   "outputs": [],
   "source": [
    "import sys\n",
    "sys.path.append(\"../src\")"
   ]
  },
  {
   "cell_type": "code",
   "execution_count": 3,
   "id": "d56e6eb4",
   "metadata": {},
   "outputs": [],
   "source": [
    "from datajoining import datajoining"
   ]
  },
  {
   "cell_type": "code",
   "execution_count": 4,
   "id": "33c23f11",
   "metadata": {},
   "outputs": [],
   "source": [
    "sample_sizes = [.001, .002, .005, .01, .02, .05, .1, .2, .5, 1.0]"
   ]
  },
  {
   "cell_type": "code",
   "execution_count": null,
   "id": "bfc7de03",
   "metadata": {},
   "outputs": [
    {
     "name": "stdout",
     "output_type": "stream",
     "text": [
      "Number of rows in total dataset file: 109950743\n",
      "Number of rows in 0.001 sample: 109950\n",
      "Number of rows in 0.002 sample: 219901\n",
      "Number of rows in 0.005 sample: 549753\n",
      "Number of rows in 0.01 sample: 1099507\n",
      "Number of rows in 0.02 sample: 2199014\n",
      "Number of rows in 0.05 sample: 5497537\n",
      "Number of rows in 0.1 sample: 10995074\n",
      "Number of rows in 0.2 sample: 21990148\n",
      "Number of rows in 0.5 sample: 54975371\n"
     ]
    }
   ],
   "source": [
    "datajoining(spark, \"../data/\", sample_sizes=sample_sizes)"
   ]
  },
  {
   "cell_type": "code",
   "execution_count": null,
   "id": "1bef9040",
   "metadata": {},
   "outputs": [],
   "source": [
    "from eda import eda\n",
    "\n",
    "for sample_size in sample_sizes:\n",
    "    # do the eda\n",
    "    pass"
   ]
  }
 ],
 "metadata": {
  "kernelspec": {
   "display_name": "vscode_pyspark",
   "language": "python",
   "name": "vscode_pyspark"
  },
  "language_info": {
   "codemirror_mode": {
    "name": "ipython",
    "version": 3
   },
   "file_extension": ".py",
   "mimetype": "text/x-python",
   "name": "python",
   "nbconvert_exporter": "python",
   "pygments_lexer": "ipython3",
   "version": "3.11.12"
  }
 },
 "nbformat": 4,
 "nbformat_minor": 5
}
