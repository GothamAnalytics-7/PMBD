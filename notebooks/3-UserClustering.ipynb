{
 "cells": [
  {
   "cell_type": "markdown",
   "id": "03524023",
   "metadata": {},
   "source": [
    "<img src=\"https://www.iscte-iul.pt/assets/images/logo_iscte_detailed.svg\" style=\"width: 450px;margin-top:30px;\" align =\"center\">\n",
    "\n",
    "<div style= \"font-size: 35px;  margin-top:40px; font-weight:bold; font-family: 'Avenir Next LT Pro', sans-serif;\"><center>User Clustering: <strong>E-Commerce</strong></center></div>\n",
    "<div style= \"font-size: 30px; font-weight:bold; font-family: 'Avenir Next LT Pro', sans-serif;\"><center>Organizing all variables and data to the models phase</center></div>\n",
    "\n",
    "<div style= \"font-size: 27px;font-weight:bold;line-height: 1.1; margin-top:40px; font-family: 'Avenir Next LT Pro', sans-serif;\"><center>Processamento e Modelação de Big Data 2024/2025</center></div> <br>\n",
    "\n",
    "   <div style= \"font-size: 20px;font-weight:bold; font-family: 'Avenir Next LT Pro', sans-serif;\"><center> Grupo 7:</center></div>\n",
    "   <div><center> Diogo Freitas | 104841 </center></div>\n",
    "   <div><center> João Francisco Botas | 104782 </center></div>\n",
    "   <div><center> Miguel Gonçalves | 105944 </center></div>\n",
    "   <div><center> Ricardo Galvão | 105285 </center></div>"
   ]
  },
  {
   "cell_type": "code",
   "execution_count": 1,
   "id": "1adeaa65",
   "metadata": {},
   "outputs": [],
   "source": [
    "# Importações Básicas\n",
    "import pyspark\n",
    "import pandas as pd\n",
    "from pyspark.sql import SparkSession, Row\n",
    "import pyspark.sql.functions as F\n",
    "from pyspark.sql.functions import split, isnan, col, isnull, avg, count, round\n",
    "from pyspark.sql.types import (\n",
    "    StructType, StructField,\n",
    "    StringType, LongType, DoubleType, TimestampType\n",
    ")\n",
    "\n",
    "\n",
    "# Create a Spark session\n",
    "spark = SparkSession.builder \\\n",
    "    .appName(\"Projeto\") \\\n",
    "    .getOrCreate()"
   ]
  },
  {
   "cell_type": "code",
   "execution_count": 2,
   "id": "21c5bfcb",
   "metadata": {},
   "outputs": [],
   "source": [
    "# Criação da Sessão\n",
    "spark = SparkSession.builder.appName(\"Projeto\").getOrCreate()\n",
    "\n",
    "# Leitura de dados\n",
    "data_dir = '../data/'\n",
    "file_ec = data_dir + 'user_df.parquet'\n",
    "\n",
    "# Carrega as primeiras 10.000 linhas\n",
    "ec_user = spark.read.parquet(file_ec)"
   ]
  },
  {
   "cell_type": "code",
   "execution_count": 3,
   "id": "d5bf3585",
   "metadata": {},
   "outputs": [
    {
     "name": "stdout",
     "output_type": "stream",
     "text": [
      "+---------+-------------+-----------+-----------+----------+---------+---------+-------+------------+----+----+-----+-----------+\n",
      "|  user_id|average_price|total_views|electronics|appliances|furniture|computers|apparel|construction|auto|kids|sport|accessories|\n",
      "+---------+-------------+-----------+-----------+----------+---------+---------+-------+------------+----+----+-----+-----------+\n",
      "|515761354|       141.55|          3|          0|         3|        0|        0|      0|           0|   0|   0|    0|          0|\n",
      "|565865924|       949.47|          1|          1|         0|        0|        0|      0|           0|   0|   0|    0|          0|\n",
      "|527322328|      197.797|          7|          0|         7|        0|        0|      0|           0|   0|   0|    0|          0|\n",
      "|553334193|       172.23|          1|          1|         0|        0|        0|      0|           0|   0|   0|    0|          0|\n",
      "|565921426|       165.26|          1|          1|         0|        0|        0|      0|           0|   0|   0|    0|          0|\n",
      "|541781462|      203.877|         15|         11|         0|        0|        0|      4|           0|   0|   0|    0|          0|\n",
      "|556226281|      185.108|          8|          8|         0|        0|        0|      0|           0|   0|   0|    0|          0|\n",
      "|566280399|       67.255|          2|          2|         0|        0|        0|      0|           0|   0|   0|    0|          0|\n",
      "|517081324|      135.692|          5|          0|         0|        0|        0|      0|           5|   0|   0|    0|          0|\n",
      "|514171705|     1459.529|         13|          3|         0|        0|       10|      0|           0|   0|   0|    0|          0|\n",
      "|549568904|        96.26|          2|          2|         0|        0|        0|      0|           0|   0|   0|    0|          0|\n",
      "|526595547|      531.949|          9|          0|         9|        0|        0|      0|           0|   0|   0|    0|          0|\n",
      "|513998949|       57.604|          7|          0|         0|        0|        0|      0|           5|   2|   0|    0|          0|\n",
      "|436701163|       128.42|          1|          1|         0|        0|        0|      0|           0|   0|   0|    0|          0|\n",
      "|543124499|      118.469|          8|          0|         0|        0|        8|      0|           0|   0|   0|    0|          0|\n",
      "|519902359|       15.913|          7|          7|         0|        0|        0|      0|           0|   0|   0|    0|          0|\n",
      "|566031393|       189.75|         24|         24|         0|        0|        0|      0|           0|   0|   0|    0|          0|\n",
      "|518427361|       155.11|          1|          0|         1|        0|        0|      0|           0|   0|   0|    0|          0|\n",
      "|566280536|       591.78|          1|          0|         0|        1|        0|      0|           0|   0|   0|    0|          0|\n",
      "|556727865|      418.529|         16|         16|         0|        0|        0|      0|           0|   0|   0|    0|          0|\n",
      "+---------+-------------+-----------+-----------+----------+---------+---------+-------+------------+----+----+-----+-----------+\n",
      "only showing top 20 rows\n",
      "\n"
     ]
    }
   ],
   "source": [
    "ec_user.show()"
   ]
  },
  {
   "cell_type": "markdown",
   "id": "cfdb7346",
   "metadata": {},
   "source": [
    "## KMeans Clustering"
   ]
  },
  {
   "cell_type": "code",
   "execution_count": 4,
   "id": "9d3ea6cb",
   "metadata": {},
   "outputs": [
    {
     "data": {
      "text/plain": [
       "'user_id'"
      ]
     },
     "execution_count": 4,
     "metadata": {},
     "output_type": "execute_result"
    }
   ],
   "source": [
    "feature_cols = ec_user.columns\n",
    "feature_cols.pop(0)"
   ]
  },
  {
   "cell_type": "code",
   "execution_count": 14,
   "id": "0f458dfd",
   "metadata": {},
   "outputs": [],
   "source": [
    "from pyspark.ml.feature import VectorAssembler, MaxAbsScaler\n"
   ]
  },
  {
   "cell_type": "code",
   "execution_count": 20,
   "id": "8b38e7b5",
   "metadata": {},
   "outputs": [],
   "source": [
    "assembler = VectorAssembler(inputCols=feature_cols, outputCol=\"features_prescale\")\n",
    "client_features = assembler.transform(ec_user)\n",
    "\n",
    "scaler = MaxAbsScaler(inputCol=\"features_prescale\", outputCol=\"features\")\n",
    "client_features = scaler.fit(client_features).transform(client_features)"
   ]
  },
  {
   "cell_type": "code",
   "execution_count": 21,
   "id": "594ed7e6",
   "metadata": {},
   "outputs": [
    {
     "name": "stdout",
     "output_type": "stream",
     "text": [
      "+---------+-------------+-----------+-----------+----------+---------+---------+-------+------------+----+----+-----+-----------+--------------------+--------------------+\n",
      "|  user_id|average_price|total_views|electronics|appliances|furniture|computers|apparel|construction|auto|kids|sport|accessories|   features_prescale|            features|\n",
      "+---------+-------------+-----------+-----------+----------+---------+---------+-------+------------+----+----+-----+-----------+--------------------+--------------------+\n",
      "|515761354|       141.55|          3|          0|         3|        0|        0|      0|           0|   0|   0|    0|          0|(12,[0,1,3],[141....|(12,[0,1,3],[0.06...|\n",
      "|565865924|       949.47|          1|          1|         0|        0|        0|      0|           0|   0|   0|    0|          0|(12,[0,1,2],[949....|(12,[0,1,2],[0.42...|\n",
      "|527322328|      197.797|          7|          0|         7|        0|        0|      0|           0|   0|   0|    0|          0|(12,[0,1,3],[197....|(12,[0,1,3],[0.08...|\n",
      "|553334193|       172.23|          1|          1|         0|        0|        0|      0|           0|   0|   0|    0|          0|(12,[0,1,2],[172....|(12,[0,1,2],[0.07...|\n",
      "|565921426|       165.26|          1|          1|         0|        0|        0|      0|           0|   0|   0|    0|          0|(12,[0,1,2],[165....|(12,[0,1,2],[0.07...|\n",
      "|541781462|      203.877|         15|         11|         0|        0|        0|      4|           0|   0|   0|    0|          0|(12,[0,1,2,6],[20...|(12,[0,1,2,6],[0....|\n",
      "|556226281|      185.108|          8|          8|         0|        0|        0|      0|           0|   0|   0|    0|          0|(12,[0,1,2],[185....|(12,[0,1,2],[0.08...|\n",
      "|566280399|       67.255|          2|          2|         0|        0|        0|      0|           0|   0|   0|    0|          0|(12,[0,1,2],[67.2...|(12,[0,1,2],[0.03...|\n",
      "|517081324|      135.692|          5|          0|         0|        0|        0|      0|           5|   0|   0|    0|          0|(12,[0,1,7],[135....|(12,[0,1,7],[0.06...|\n",
      "|514171705|     1459.529|         13|          3|         0|        0|       10|      0|           0|   0|   0|    0|          0|(12,[0,1,2,5],[14...|(12,[0,1,2,5],[0....|\n",
      "|549568904|        96.26|          2|          2|         0|        0|        0|      0|           0|   0|   0|    0|          0|(12,[0,1,2],[96.2...|(12,[0,1,2],[0.04...|\n",
      "|526595547|      531.949|          9|          0|         9|        0|        0|      0|           0|   0|   0|    0|          0|(12,[0,1,3],[531....|(12,[0,1,3],[0.23...|\n",
      "|513998949|       57.604|          7|          0|         0|        0|        0|      0|           5|   2|   0|    0|          0|(12,[0,1,7,8],[57...|(12,[0,1,7,8],[0....|\n",
      "|436701163|       128.42|          1|          1|         0|        0|        0|      0|           0|   0|   0|    0|          0|(12,[0,1,2],[128....|(12,[0,1,2],[0.05...|\n",
      "|543124499|      118.469|          8|          0|         0|        0|        8|      0|           0|   0|   0|    0|          0|(12,[0,1,5],[118....|(12,[0,1,5],[0.05...|\n",
      "|519902359|       15.913|          7|          7|         0|        0|        0|      0|           0|   0|   0|    0|          0|(12,[0,1,2],[15.9...|(12,[0,1,2],[0.00...|\n",
      "|566031393|       189.75|         24|         24|         0|        0|        0|      0|           0|   0|   0|    0|          0|(12,[0,1,2],[189....|(12,[0,1,2],[0.08...|\n",
      "|518427361|       155.11|          1|          0|         1|        0|        0|      0|           0|   0|   0|    0|          0|(12,[0,1,3],[155....|(12,[0,1,3],[0.06...|\n",
      "|566280536|       591.78|          1|          0|         0|        1|        0|      0|           0|   0|   0|    0|          0|(12,[0,1,4],[591....|(12,[0,1,4],[0.26...|\n",
      "|556727865|      418.529|         16|         16|         0|        0|        0|      0|           0|   0|   0|    0|          0|(12,[0,1,2],[418....|(12,[0,1,2],[0.18...|\n",
      "+---------+-------------+-----------+-----------+----------+---------+---------+-------+------------+----+----+-----+-----------+--------------------+--------------------+\n",
      "only showing top 20 rows\n",
      "\n"
     ]
    }
   ],
   "source": [
    "client_features.show()"
   ]
  },
  {
   "cell_type": "code",
   "execution_count": null,
   "id": "94a4b673",
   "metadata": {},
   "outputs": [],
   "source": [
    "from pyspark.ml.clustering import KMeans\n",
    "from pyspark.ml.evaluation import ClusteringEvaluator"
   ]
  },
  {
   "cell_type": "code",
   "execution_count": 28,
   "id": "6334b215",
   "metadata": {},
   "outputs": [
    {
     "name": "stdout",
     "output_type": "stream",
     "text": [
      "Silhouette Score for k = 2 is 0.6332562251720768\n",
      "Silhouette Score for k = 3 is 0.6385460218100838\n",
      "Silhouette Score for k = 4 is 0.6661240169681092\n",
      "Silhouette Score for k = 5 is 0.4989139228311749\n",
      "Silhouette Score for k = 6 is 0.49845982939889893\n",
      "Silhouette Score for k = 7 is 0.3762151661811034\n",
      "Silhouette Score for k = 8 is 0.5072148698980378\n",
      "Silhouette Score for k = 9 is 0.2426372847290946\n",
      "Silhouette Score for k = 10 is 0.5713529135038731\n",
      "Silhouette Score for k = 11 is 0.2711111665882319\n",
      "Silhouette Score for k = 12 is 0.31478953458025954\n",
      "Silhouette Score for k = 13 is 0.47607736342373896\n",
      "Silhouette Score for k = 14 is 0.32564643551277833\n"
     ]
    }
   ],
   "source": [
    "silhouette_score=[] \n",
    "  \n",
    "evaluator = ClusteringEvaluator(predictionCol='prediction', \n",
    "                                featuresCol='features',  \n",
    "                                metricName='silhouette',  \n",
    "                                distanceMeasure='squaredEuclidean') \n",
    "  \n",
    "for i in range(2,15): \n",
    "    kmeans=KMeans(featuresCol='features', k=i) \n",
    "    model=kmeans.fit(client_features) \n",
    "    predictions=model.transform(client_features) \n",
    "    score=evaluator.evaluate(predictions) \n",
    "    silhouette_score.append(score) \n",
    "    print('Silhouette Score for k =',i,'is',score)"
   ]
  },
  {
   "cell_type": "code",
   "execution_count": 30,
   "id": "c5213735",
   "metadata": {},
   "outputs": [
    {
     "data": {
      "image/png": "[encoded data removed]",
      "text/plain": [
       "<Figure size 640x480 with 1 Axes>"
      ]
     },
     "metadata": {},
     "output_type": "display_data"
    }
   ],
   "source": [
    "import matplotlib.pyplot as plt \n",
    "  \n",
    "plt.plot(range(2,15),silhouette_score) \n",
    "plt.xlabel('k') \n",
    "plt.ylabel('silhouette score') \n",
    "plt.title('Silhouette Score') \n",
    "plt.show()"
   ]
  },
  {
   "cell_type": "code",
   "execution_count": 32,
   "id": "d343d7af",
   "metadata": {},
   "outputs": [],
   "source": [
    "optimal_k = silhouette_score.index(max(silhouette_score)) + 2"
   ]
  },
  {
   "cell_type": "code",
   "execution_count": 33,
   "id": "d28eaa17",
   "metadata": {},
   "outputs": [
    {
     "name": "stdout",
     "output_type": "stream",
     "text": [
      "Silhouette with squared euclidean distance = 0.6582967522717171\n",
      "Cluster Centers: \n",
      "[0.10226844 0.05181945 0.0259042  0.01007292 0.01003992 0.01148583\n",
      " 0.00470951 0.01164875 0.00842294 0.0046147  0.00197133 0.00086406]\n",
      "[4.83489510e-01 6.04031527e-02 5.13468013e-02 1.70285228e-03\n",
      " 4.11522634e-03 4.15263749e-02 9.57029381e-05 2.93944738e-04\n",
      " 0.00000000e+00 0.00000000e+00 6.85871056e-03 0.00000000e+00]\n",
      "[0.14771291 0.29300397 0.26547389 0.05044021 0.0270793  0.01353965\n",
      " 0.00470064 0.0106383  0.00283688 0.01170213 0.01205674 0.01367781]\n",
      "[0.03565212 0.3747646  0.00505051 0.         0.         0.\n",
      " 0.50904393 0.         0.         0.         0.         0.        ]\n"
     ]
    }
   ],
   "source": [
    "# Trains a k-means model.\n",
    "kmeans = KMeans().setK(optimal_k).setSeed(1)\n",
    "model = kmeans.fit(client_features)\n",
    "\n",
    "# Make predictions\n",
    "predictions = model.transform(client_features)\n",
    "\n",
    "# Evaluate clustering by computing Silhouette score\n",
    "evaluator = ClusteringEvaluator()\n",
    "\n",
    "silhouette = evaluator.evaluate(predictions)\n",
    "print(\"Silhouette with squared euclidean distance = \" + str(silhouette))\n",
    "\n",
    "# Shows the result.\n",
    "centers = model.clusterCenters()\n",
    "print(\"Cluster Centers: \")\n",
    "for center in centers:\n",
    "    print(center)"
   ]
  },
  {
   "cell_type": "code",
   "execution_count": 34,
   "id": "bb5e08b7",
   "metadata": {},
   "outputs": [
    {
     "name": "stdout",
     "output_type": "stream",
     "text": [
      "+----------+-----+\n",
      "|prediction|count|\n",
      "+----------+-----+\n",
      "|         1|  243|\n",
      "|         3|    9|\n",
      "|         2|   94|\n",
      "|         0| 1116|\n",
      "+----------+-----+\n",
      "\n"
     ]
    }
   ],
   "source": [
    "predictions.groupBy(\"prediction\").count().show()"
   ]
  },
  {
   "cell_type": "code",
   "execution_count": 35,
   "id": "2b070480",
   "metadata": {},
   "outputs": [],
   "source": [
    "cluster_profiles = predictions.groupBy(\"prediction\").mean()"
   ]
  },
  {
   "cell_type": "code",
   "execution_count": 36,
   "id": "cf3b48ac",
   "metadata": {},
   "outputs": [],
   "source": [
    "for c in cluster_profiles.columns:\n",
    "    cluster_profiles = cluster_profiles.withColumn(c, F.round(c, 2))"
   ]
  },
  {
   "cell_type": "code",
   "execution_count": 37,
   "id": "a4e54d59",
   "metadata": {},
   "outputs": [
    {
     "name": "stdout",
     "output_type": "stream",
     "text": [
      "+----------+--------------+------------------+----------------+----------------+---------------+--------------+--------------+------------+-----------------+---------+---------+----------+----------------+---------------+\n",
      "|prediction|  avg(user_id)|avg(average_price)|avg(total_views)|avg(electronics)|avg(appliances)|avg(furniture)|avg(computers)|avg(apparel)|avg(construction)|avg(auto)|avg(kids)|avg(sport)|avg(accessories)|avg(prediction)|\n",
      "+----------+--------------+------------------+----------------+----------------+---------------+--------------+--------------+------------+-----------------+---------+---------+----------+----------------+---------------+\n",
      "|         1|5.3792486298E8|           1082.75|            3.56|            2.26|            0.1|          0.18|          0.91|         0.0|              0.0|      0.0|      0.0|       0.1|             0.0|            1.0|\n",
      "|         3|  5.39811226E8|             79.84|           22.11|            0.22|            0.0|           0.0|           0.0|       21.89|              0.0|      0.0|      0.0|       0.0|             0.0|            3.0|\n",
      "|         2|5.3879031254E8|            330.79|           17.29|           11.68|           2.93|          1.19|           0.3|         0.2|             0.15|     0.04|     0.23|      0.18|            0.38|            2.0|\n",
      "|         0|5.4021715454E8|            229.02|            3.06|            1.14|           0.58|          0.44|          0.25|         0.2|             0.16|     0.13|     0.09|      0.03|            0.02|            0.0|\n",
      "+----------+--------------+------------------+----------------+----------------+---------------+--------------+--------------+------------+-----------------+---------+---------+----------+----------------+---------------+\n",
      "\n"
     ]
    }
   ],
   "source": [
    "cluster_profiles.show()"
   ]
  }
 ],
 "metadata": {
  "kernelspec": {
   "display_name": "vscode_pyspark",
   "language": "python",
   "name": "vscode_pyspark"
  },
  "language_info": {
   "codemirror_mode": {
    "name": "ipython",
    "version": 3
   },
   "file_extension": ".py",
   "mimetype": "text/x-python",
   "name": "python",
   "nbconvert_exporter": "python",
   "pygments_lexer": "ipython3",
   "version": "3.11.12"
  }
 },
 "nbformat": 4,
 "nbformat_minor": 5
}
