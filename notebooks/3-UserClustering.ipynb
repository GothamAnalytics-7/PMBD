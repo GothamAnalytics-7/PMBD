{
 "cells": [
  {
   "cell_type": "markdown",
   "id": "03524023",
   "metadata": {},
   "source": [
    "<img src=\"https://www.iscte-iul.pt/assets/images/logo_iscte_detailed.svg\" style=\"width: 450px;margin-top:30px;\" align =\"center\">\n",
    "\n",
    "<div style= \"font-size: 35px;  margin-top:40px; font-weight:bold; font-family: 'Avenir Next LT Pro', sans-serif;\"><center>User Clustering: <strong>E-Commerce</strong></center></div>\n",
    "<div style= \"font-size: 30px; font-weight:bold; font-family: 'Avenir Next LT Pro', sans-serif;\"><center>Organizing all variables and data to the models phase</center></div>\n",
    "\n",
    "<div style= \"font-size: 27px;font-weight:bold;line-height: 1.1; margin-top:40px; font-family: 'Avenir Next LT Pro', sans-serif;\"><center>Processamento e Modelação de Big Data 2024/2025</center></div> <br>\n",
    "\n",
    "   <div style= \"font-size: 20px;font-weight:bold; font-family: 'Avenir Next LT Pro', sans-serif;\"><center> Grupo 7:</center></div>\n",
    "   <div><center> Diogo Freitas | 104841 </center></div>\n",
    "   <div><center> João Francisco Botas | 104782 </center></div>\n",
    "   <div><center> Miguel Gonçalves | 105944 </center></div>\n",
    "   <div><center> Ricardo Galvão | 105285 </center></div>"
   ]
  },
  {
   "cell_type": "code",
   "execution_count": 1,
   "id": "1adeaa65",
   "metadata": {},
   "outputs": [],
   "source": [
    "# Importações Básicas\n",
    "import pyspark\n",
    "import pandas as pd\n",
    "from pyspark.sql import SparkSession, Row\n",
    "import pyspark.sql.functions as F\n",
    "from pyspark.sql.functions import split, isnan, col, isnull, avg, count, round\n",
    "from pyspark.sql.types import (\n",
    "    StructType, StructField,\n",
    "    StringType, LongType, DoubleType, TimestampType\n",
    ")\n",
    "\n",
    "\n",
    "# Create a Spark session\n",
    "spark = SparkSession.builder \\\n",
    "    .appName(\"Projeto\") \\\n",
    "    .getOrCreate()"
   ]
  },
  {
   "cell_type": "code",
   "execution_count": 3,
   "id": "21c5bfcb",
   "metadata": {},
   "outputs": [],
   "source": [
    "# Criação da Sessão\n",
    "spark = SparkSession.builder.appName(\"Projeto\").getOrCreate()\n",
    "\n",
    "# Leitura de dados\n",
    "data_dir = '../data/'\n",
    "file_ec = data_dir + 'user_df.parquet'\n",
    "\n",
    "# Carrega as primeiras 10.000 linhas\n",
    "ec_user = spark.read.parquet(file_ec)"
   ]
  },
  {
   "cell_type": "code",
   "execution_count": 4,
   "id": "d5bf3585",
   "metadata": {},
   "outputs": [
    {
     "name": "stdout",
     "output_type": "stream",
     "text": [
      "+---------+-------------+-----------+-----------+----------+---------+---------+-------+------------+----+----+-----+-----------+\n",
      "|  user_id|average_price|total_views|electronics|appliances|furniture|computers|apparel|construction|auto|kids|sport|accessories|\n",
      "+---------+-------------+-----------+-----------+----------+---------+---------+-------+------------+----+----+-----+-----------+\n",
      "|515761354|       141.55|          3|          0|         3|        0|        0|      0|           0|   0|   0|    0|          0|\n",
      "|565865924|       949.47|          1|          1|         0|        0|        0|      0|           0|   0|   0|    0|          0|\n",
      "|527322328|      197.797|          7|          0|         7|        0|        0|      0|           0|   0|   0|    0|          0|\n",
      "|553334193|       172.23|          1|          1|         0|        0|        0|      0|           0|   0|   0|    0|          0|\n",
      "|565921426|       165.26|          1|          1|         0|        0|        0|      0|           0|   0|   0|    0|          0|\n",
      "|541781462|      203.877|         15|         11|         0|        0|        0|      4|           0|   0|   0|    0|          0|\n",
      "|556226281|      185.108|          8|          8|         0|        0|        0|      0|           0|   0|   0|    0|          0|\n",
      "|566280399|       67.255|          2|          2|         0|        0|        0|      0|           0|   0|   0|    0|          0|\n",
      "|517081324|      135.692|          5|          0|         0|        0|        0|      0|           5|   0|   0|    0|          0|\n",
      "|514171705|     1459.529|         13|          3|         0|        0|       10|      0|           0|   0|   0|    0|          0|\n",
      "|549568904|        96.26|          2|          2|         0|        0|        0|      0|           0|   0|   0|    0|          0|\n",
      "|526595547|      531.949|          9|          0|         9|        0|        0|      0|           0|   0|   0|    0|          0|\n",
      "|513998949|       57.604|          7|          0|         0|        0|        0|      0|           5|   2|   0|    0|          0|\n",
      "|436701163|       128.42|          1|          1|         0|        0|        0|      0|           0|   0|   0|    0|          0|\n",
      "|543124499|      118.469|          8|          0|         0|        0|        8|      0|           0|   0|   0|    0|          0|\n",
      "|519902359|       15.913|          7|          7|         0|        0|        0|      0|           0|   0|   0|    0|          0|\n",
      "|566031393|       189.75|         24|         24|         0|        0|        0|      0|           0|   0|   0|    0|          0|\n",
      "|518427361|       155.11|          1|          0|         1|        0|        0|      0|           0|   0|   0|    0|          0|\n",
      "|566280536|       591.78|          1|          0|         0|        1|        0|      0|           0|   0|   0|    0|          0|\n",
      "|556727865|      418.529|         16|         16|         0|        0|        0|      0|           0|   0|   0|    0|          0|\n",
      "+---------+-------------+-----------+-----------+----------+---------+---------+-------+------------+----+----+-----+-----------+\n",
      "only showing top 20 rows\n",
      "\n"
     ]
    }
   ],
   "source": [
    "ec_user.show()"
   ]
  },
  {
   "cell_type": "markdown",
   "id": "cfdb7346",
   "metadata": {},
   "source": [
    "## KMeans Clustering"
   ]
  },
  {
   "cell_type": "code",
   "execution_count": 18,
   "id": "9d3ea6cb",
   "metadata": {},
   "outputs": [
    {
     "data": {
      "text/plain": [
       "'user_id'"
      ]
     },
     "execution_count": 18,
     "metadata": {},
     "output_type": "execute_result"
    }
   ],
   "source": [
    "feature_cols = ec_user.columns\n",
    "feature_cols.pop(0)"
   ]
  },
  {
   "cell_type": "code",
   "execution_count": 19,
   "id": "0f458dfd",
   "metadata": {},
   "outputs": [],
   "source": [
    "from pyspark.ml.feature import VectorAssembler\n",
    "\n",
    "assembler = VectorAssembler(inputCols=feature_cols, outputCol=\"features\")\n",
    "client_features = assembler.transform(ec_user)"
   ]
  },
  {
   "cell_type": "code",
   "execution_count": 22,
   "id": "d28eaa17",
   "metadata": {},
   "outputs": [
    {
     "name": "stdout",
     "output_type": "stream",
     "text": [
      "Silhouette with squared euclidean distance = 0.8645130956054886\n",
      "Cluster Centers: \n",
      "[2.31897798e+02 4.23121387e+00 1.88191577e+00 7.58876961e-01\n",
      " 4.99587118e-01 2.55986788e-01 3.64161850e-01 1.61849711e-01\n",
      " 1.19735756e-01 1.03220479e-01 3.30305533e-02 5.20231214e-02]\n",
      "[1.07443439e+03 3.89641434e+00 2.55776892e+00 1.27490040e-01\n",
      " 1.75298805e-01 8.84462151e-01 7.96812749e-03 3.98406375e-03\n",
      " 0.00000000e+00 0.00000000e+00 1.39442231e-01 0.00000000e+00]\n"
     ]
    }
   ],
   "source": [
    "from pyspark.ml.clustering import KMeans\n",
    "from pyspark.ml.evaluation import ClusteringEvaluator\n",
    "\n",
    "\n",
    "# Trains a k-means model.\n",
    "kmeans = KMeans().setK(2).setSeed(1)\n",
    "model = kmeans.fit(client_features)\n",
    "\n",
    "# Make predictions\n",
    "predictions = model.transform(client_features)\n",
    "\n",
    "# Evaluate clustering by computing Silhouette score\n",
    "evaluator = ClusteringEvaluator()\n",
    "\n",
    "silhouette = evaluator.evaluate(predictions)\n",
    "print(\"Silhouette with squared euclidean distance = \" + str(silhouette))\n",
    "\n",
    "# Shows the result.\n",
    "centers = model.clusterCenters()\n",
    "print(\"Cluster Centers: \")\n",
    "for center in centers:\n",
    "    print(center)"
   ]
  },
  {
   "cell_type": "code",
   "execution_count": 38,
   "id": "bb5e08b7",
   "metadata": {},
   "outputs": [
    {
     "name": "stdout",
     "output_type": "stream",
     "text": [
      "+----------+-----+\n",
      "|prediction|count|\n",
      "+----------+-----+\n",
      "|         1|  251|\n",
      "|         0| 1211|\n",
      "+----------+-----+\n",
      "\n"
     ]
    }
   ],
   "source": [
    "predictions.groupBy(\"prediction\").count().show()"
   ]
  },
  {
   "cell_type": "code",
   "execution_count": null,
   "id": "bcb87bd6",
   "metadata": {},
   "outputs": [],
   "source": []
  },
  {
   "cell_type": "code",
   "execution_count": 33,
   "id": "2b070480",
   "metadata": {},
   "outputs": [],
   "source": [
    "cluster_profiles = predictions.groupBy(\"prediction\").mean()"
   ]
  },
  {
   "cell_type": "code",
   "execution_count": 34,
   "id": "cf3b48ac",
   "metadata": {},
   "outputs": [],
   "source": [
    "for c in cluster_profiles.columns:\n",
    "    cluster_profiles = cluster_profiles.withColumn(c, F.round(c, 2))"
   ]
  },
  {
   "cell_type": "code",
   "execution_count": 35,
   "id": "a4e54d59",
   "metadata": {},
   "outputs": [
    {
     "name": "stdout",
     "output_type": "stream",
     "text": [
      "+----------+--------------+------------------+----------------+----------------+---------------+--------------+--------------+------------+-----------------+---------+---------+----------+----------------+---------------+\n",
      "|prediction|  avg(user_id)|avg(average_price)|avg(total_views)|avg(electronics)|avg(appliances)|avg(furniture)|avg(computers)|avg(apparel)|avg(construction)|avg(auto)|avg(kids)|avg(sport)|avg(accessories)|avg(prediction)|\n",
      "+----------+--------------+------------------+----------------+----------------+---------------+--------------+--------------+------------+-----------------+---------+---------+----------+----------------+---------------+\n",
      "|         1| 5.376852892E8|           1074.43|             3.9|            2.56|           0.13|          0.18|          0.88|        0.01|              0.0|      0.0|      0.0|      0.14|             0.0|            1.0|\n",
      "|         0|5.4016818249E8|             231.9|            4.23|            1.88|           0.76|           0.5|          0.26|        0.36|             0.16|     0.12|      0.1|      0.03|            0.05|            0.0|\n",
      "+----------+--------------+------------------+----------------+----------------+---------------+--------------+--------------+------------+-----------------+---------+---------+----------+----------------+---------------+\n",
      "\n"
     ]
    }
   ],
   "source": [
    "cluster_profiles.show()"
   ]
  }
 ],
 "metadata": {
  "kernelspec": {
   "display_name": "vscode_pyspark",
   "language": "python",
   "name": "vscode_pyspark"
  },
  "language_info": {
   "codemirror_mode": {
    "name": "ipython",
    "version": 3
   },
   "file_extension": ".py",
   "mimetype": "text/x-python",
   "name": "python",
   "nbconvert_exporter": "python",
   "pygments_lexer": "ipython3",
   "version": "3.11.12"
  }
 },
 "nbformat": 4,
 "nbformat_minor": 5
}
