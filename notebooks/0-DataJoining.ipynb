{
 "cells": [
  {
   "cell_type": "markdown",
   "id": "986e2f01",
   "metadata": {},
   "source": [
    "<img src=\"https://www.iscte-iul.pt/assets/images/logo_iscte_detailed.svg\" style=\"width: 450px;margin-top:30px;\" align =\"center\">\n",
    "\n",
    "<div style= \"font-size: 40px;  margin-top:40px; font-weight:bold; font-family: 'Avenir Next LT Pro', sans-serif;\"><center>Data Joining: <strong>E-Commerce</strong></center></div>\n",
    "<div style= \"font-size: 35px; font-weight:bold; font-family: 'Avenir Next LT Pro', sans-serif;\"><center>Merging the 2 csv files to a unique parquet</center></div>\n",
    "\n",
    "<div style= \"font-size: 27px;font-weight:bold;line-height: 1.1; margin-top:40px; font-family: 'Avenir Next LT Pro', sans-serif;\"><center>Processamento e Modelação de Big Data 2024/2025</center></div> <br>\n",
    "\n",
    "   <div style= \"font-size: 20px;font-weight:bold; font-family: 'Avenir Next LT Pro', sans-serif;\"><center> Grupo 7:</center></div>\n",
    "   <div><center> Diogo Freitas | 104841 </center></div>\n",
    "   <div><center> João Francisco Botas | 104782 </center></div>\n",
    "   <div><center> Miguel Gonçalves | 105944 </center></div>\n",
    "   <div><center> Ricardo Galvão | 105285 </center></div>"
   ]
  },
  {
   "cell_type": "markdown",
   "id": "50f1bfff",
   "metadata": {},
   "source": [
    "--- \n",
    "## Spark Session\n",
    "\n",
    "Iniciar a sessão do Spark com o nome de `Projeto`."
   ]
  },
  {
   "cell_type": "code",
   "execution_count": 11,
   "id": "73f49763",
   "metadata": {},
   "outputs": [],
   "source": [
    "# Basic imports\n",
    "import pyspark\n",
    "from pyspark.sql import SparkSession\n",
    "import pyspark.sql.functions as F\n",
    "from pyspark.sql.types import (\n",
    "    StructType, StructField,\n",
    "    StringType, LongType, DoubleType, TimestampType\n",
    ")\n",
    "\n",
    "# Create a Spark session\n",
    "spark = SparkSession.builder \\\n",
    "    .appName(\"Projeto\") \\\n",
    "    .getOrCreate()"
   ]
  },
  {
   "cell_type": "markdown",
   "id": "94b6c38f",
   "metadata": {},
   "source": [
    "---\n",
    "## Read Data\n",
    "\n",
    "Primeiro vamos definir o schema ao ler os dados para ser mais eficiente a leitura.\n",
    "\n",
    "NOTA: **Ajustar a pasta de `data` consoante o caminho**"
   ]
  },
  {
   "cell_type": "code",
   "execution_count": 12,
   "id": "39f16c5b",
   "metadata": {},
   "outputs": [],
   "source": [
    "# read csv files on data folder\n",
    "data_dir = \"../data/\"\n",
    "\n",
    "schema = StructType([\n",
    "    StructField(\"event_time\", TimestampType(), True),\n",
    "    StructField(\"event_type\", StringType(), True),\n",
    "    StructField(\"product_id\", LongType(), True),\n",
    "    StructField(\"category_id\", LongType(), True),\n",
    "    StructField(\"category_code\", StringType(), True),\n",
    "    StructField(\"brand\", StringType(), True),\n",
    "    StructField(\"price\", DoubleType(), True),\n",
    "    StructField(\"user_id\", LongType(), True),\n",
    "    StructField(\"user_session\", StringType(), True)\n",
    "])\n",
    "\n",
    "ec_oct = spark.read.csv(data_dir + \"2019-Oct.csv\", header=True, schema=schema)\n",
    "ec_nov = spark.read.csv(data_dir + \"2019-Nov.csv\", header=True, schema=schema)"
   ]
  },
  {
   "cell_type": "code",
   "execution_count": 13,
   "id": "7ea3dd9c",
   "metadata": {},
   "outputs": [
    {
     "name": "stdout",
     "output_type": "stream",
     "text": [
      "Number of rows in October 2019 file: 42448764\n",
      "Number of rows in November 2019 file: 67501979\n"
     ]
    }
   ],
   "source": [
    "# count rows\n",
    "print(f\"Number of rows in October 2019 file: {ec_oct.count()}\")\n",
    "print(f\"Number of rows in November 2019 file: {ec_nov.count()}\")"
   ]
  },
  {
   "cell_type": "markdown",
   "id": "23732e20",
   "metadata": {},
   "source": [
    "- Number of rows in October 2019 file: 42448764\n",
    "- Number of rows in November 2019 file: 67501979"
   ]
  },
  {
   "cell_type": "markdown",
   "id": "7616a728",
   "metadata": {},
   "source": [
    "---\n",
    "## Data Joining\n",
    "\n",
    "Juntar os dados dos dois ficheiros e depois escrever num parquet para ser utilizado mais para a frente. "
   ]
  },
  {
   "cell_type": "code",
   "execution_count": 5,
   "id": "bdd85fd8",
   "metadata": {},
   "outputs": [],
   "source": [
    "# merge the two datasets\n",
    "ec_total = ec_oct.union(ec_nov)"
   ]
  },
  {
   "cell_type": "code",
   "execution_count": 6,
   "id": "82d8b269",
   "metadata": {},
   "outputs": [],
   "source": [
    "# write in a parquet file\n",
    "ec_total.write.parquet(data_dir + \"ec_total.parquet\", mode=\"overwrite\")"
   ]
  },
  {
   "cell_type": "markdown",
   "id": "2e73fe6e",
   "metadata": {},
   "source": [
    "---\n",
    "Ler o parquet para ver se está tudo bem."
   ]
  },
  {
   "cell_type": "code",
   "execution_count": null,
   "id": "5b4a2f70",
   "metadata": {},
   "outputs": [],
   "source": [
    "# read parquet file and select 5% of the data\n",
    "ec_total = spark.read.parquet(data_dir + \"ec_total.parquet\")\n",
    "# TODO: talvez ajustar porque a ordem pode ser aleatoria nos 5%\n",
    "ec_5p = ec_total.sample(fraction=0.05, seed=42) "
   ]
  },
  {
   "cell_type": "code",
   "execution_count": 8,
   "id": "f86a7073",
   "metadata": {},
   "outputs": [
    {
     "name": "stdout",
     "output_type": "stream",
     "text": [
      "Number of rows in the 5% sample: 5495602\n"
     ]
    }
   ],
   "source": [
    "# count rows\n",
    "print(f\"Number of rows in the 5% sample: {ec_5p.count()}\")"
   ]
  },
  {
   "cell_type": "code",
   "execution_count": 15,
   "id": "9805b586",
   "metadata": {},
   "outputs": [
    {
     "name": "stdout",
     "output_type": "stream",
     "text": [
      "Number of rows in the parquet file: 109950743\n",
      "109950743\n"
     ]
    }
   ],
   "source": [
    "print(f\"Number of rows in the parquet file: {ec_total.count()}\")\n",
    "print(f\"Number of rows of each : {42448764 + 67501979}\")"
   ]
  },
  {
   "cell_type": "code",
   "execution_count": 9,
   "id": "2e768ce7",
   "metadata": {},
   "outputs": [
    {
     "name": "stdout",
     "output_type": "stream",
     "text": [
      "+-------------------+----------+----------+-------------------+--------------------+-------------+------+---------+--------------------+\n",
      "|         event_time|event_type|product_id|        category_id|       category_code|        brand| price|  user_id|        user_session|\n",
      "+-------------------+----------+----------+-------------------+--------------------+-------------+------+---------+--------------------+\n",
      "|2019-11-17 08:43:00|      view|   1005253|2053013555631882655|electronics.smart...|       xiaomi|288.04|516404307|a383cb03-2673-446...|\n",
      "|2019-11-17 08:43:01|      view|  60000003|2162513074060264222|                NULL|geoffanderson|  44.4|515817144|505cf403-f7ce-4ab...|\n",
      "|2019-11-17 08:43:01|      view|   4700388|2053013560899928785|auto.accessories....|    prestigio| 32.18|572492652|4879a14c-58b3-43a...|\n",
      "|2019-11-17 08:43:01|      cart|  28718385|2053013565228450757|       apparel.shoes|       rieker|103.99|518296473|8af4a493-9188-43a...|\n",
      "|2019-11-17 08:43:01|      cart|  26500142|2053013563550729061|                NULL|      lucente|234.76|514929163|f77c9416-abd5-47a...|\n",
      "|2019-11-17 08:43:01|      view|  19100147|2053013556227473861|construction.tool...|         NULL|239.39|560431625|5aca4f90-8977-433...|\n",
      "|2019-11-17 08:43:01|      view|   2402910|2053013563743667055|appliances.kitche...|   electrolux|211.05|568032756|785aa2ec-9f4e-44a...|\n",
      "|2019-11-17 08:43:02|      view|   1004259|2053013555631882655|electronics.smart...|        apple|824.94|518294516|15c91f85-7961-46f...|\n",
      "|2019-11-17 08:43:02|      view|  13104185|2053013553526341921|                NULL|         NULL|310.43|514989268|7993b636-0054-492...|\n",
      "|2019-11-17 08:43:03|      view|  15800012|2053013560144954031|                NULL|        bosch| 83.81|521005231|c155228f-8e1d-4e0...|\n",
      "+-------------------+----------+----------+-------------------+--------------------+-------------+------+---------+--------------------+\n",
      "only showing top 10 rows\n",
      "\n"
     ]
    }
   ],
   "source": [
    "# show 10 rows\n",
    "ec_5p.show(10)"
   ]
  },
  {
   "cell_type": "code",
   "execution_count": 14,
   "id": "b0b5a29d",
   "metadata": {},
   "outputs": [
    {
     "name": "stdout",
     "output_type": "stream",
     "text": [
      "root\n",
      " |-- event_time: timestamp (nullable = true)\n",
      " |-- event_type: string (nullable = true)\n",
      " |-- product_id: integer (nullable = true)\n",
      " |-- category_id: long (nullable = true)\n",
      " |-- category_code: string (nullable = true)\n",
      " |-- brand: string (nullable = true)\n",
      " |-- price: double (nullable = true)\n",
      " |-- user_id: integer (nullable = true)\n",
      " |-- user_session: string (nullable = true)\n",
      "\n"
     ]
    }
   ],
   "source": [
    "ec_5p.printSchema()"
   ]
  }
 ],
 "metadata": {
  "kernelspec": {
   "display_name": "vscode_pyspark",
   "language": "python",
   "name": "python3"
  },
  "language_info": {
   "codemirror_mode": {
    "name": "ipython",
    "version": 3
   },
   "file_extension": ".py",
   "mimetype": "text/x-python",
   "name": "python",
   "nbconvert_exporter": "python",
   "pygments_lexer": "ipython3",
   "version": "3.11.11"
  }
 },
 "nbformat": 4,
 "nbformat_minor": 5
}
