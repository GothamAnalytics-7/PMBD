{
 "cells": [
  {
   "cell_type": "markdown",
   "id": "986e2f01",
   "metadata": {},
   "source": [
    "<img src=\"https://www.iscte-iul.pt/assets/images/logo_iscte_detailed.svg\" style=\"width: 450px;margin-top:30px;\" align =\"center\">\n",
    "\n",
    "<div style= \"font-size: 40px;  margin-top:40px; font-weight:bold; font-family: 'Avenir Next LT Pro', sans-serif;\"><center>Data Joining: <strong>E-Commerce</strong></center></div>\n",
    "<div style= \"font-size: 35px; font-weight:bold; font-family: 'Avenir Next LT Pro', sans-serif;\"><center>Merging the 2 csv files to a unique parquet</center></div>\n",
    "\n",
    "<div style= \"font-size: 27px;font-weight:bold;line-height: 1.1; margin-top:40px; font-family: 'Avenir Next LT Pro', sans-serif;\"><center>Processamento e Modelação de Big Data 2024/2025</center></div> <br>\n",
    "\n",
    "   <div style= \"font-size: 20px;font-weight:bold; font-family: 'Avenir Next LT Pro', sans-serif;\"><center> Grupo 7:</center></div>\n",
    "   <div><center> Diogo Freitas | 104841 </center></div>\n",
    "   <div><center> João Francisco Botas | 104782 </center></div>\n",
    "   <div><center> Miguel Gonçalves | 105944 </center></div>\n",
    "   <div><center> Ricardo Galvão | 105285 </center></div>"
   ]
  },
  {
   "cell_type": "markdown",
   "id": "50f1bfff",
   "metadata": {},
   "source": [
    "--- \n",
    "## Spark Session\n",
    "\n",
    "Iniciar a sessão do Spark com o nome de `Projeto`."
   ]
  },
  {
   "cell_type": "code",
   "execution_count": 3,
   "id": "73f49763",
   "metadata": {},
   "outputs": [],
   "source": [
    "# Basic imports\n",
    "import pyspark\n",
    "from pyspark.sql import SparkSession\n",
    "import pyspark.sql.functions as F\n",
    "from pyspark.sql.types import (\n",
    "    StructType, StructField,\n",
    "    StringType, LongType, DoubleType, TimestampType\n",
    ")\n",
    "\n",
    "# Create a Spark session\n",
    "spark = SparkSession.builder \\\n",
    "    .appName(\"Projeto\") \\\n",
    "    .getOrCreate()"
   ]
  },
  {
   "cell_type": "markdown",
   "id": "94b6c38f",
   "metadata": {},
   "source": [
    "---\n",
    "## Read Data\n",
    "\n",
    "Primeiro vamos definir o schema ao ler os dados para ser mais eficiente a leitura.\n",
    "\n",
    "NOTA: **Ajustar a pasta de `data` consoante o caminho**"
   ]
  },
  {
   "cell_type": "code",
   "execution_count": 4,
   "id": "39f16c5b",
   "metadata": {},
   "outputs": [],
   "source": [
    "# read csv files on data folder\n",
    "data_dir = \"../data/\"\n",
    "\n",
    "schema = StructType([\n",
    "    StructField(\"event_time\", TimestampType(), True),\n",
    "    StructField(\"event_type\", StringType(), True),\n",
    "    StructField(\"product_id\", LongType(), True),\n",
    "    StructField(\"category_id\", LongType(), True),\n",
    "    StructField(\"category_code\", StringType(), True),\n",
    "    StructField(\"brand\", StringType(), True),\n",
    "    StructField(\"price\", DoubleType(), True),\n",
    "    StructField(\"user_id\", LongType(), True),\n",
    "    StructField(\"user_session\", StringType(), True)\n",
    "])\n",
    "\n",
    "ec_oct = spark.read.csv(data_dir + \"2019-Oct.csv\", header=True, schema=schema)\n",
    "ec_nov = spark.read.csv(data_dir + \"2019-Nov.csv\", header=True, schema=schema)"
   ]
  },
  {
   "cell_type": "code",
   "execution_count": 5,
   "id": "7ea3dd9c",
   "metadata": {},
   "outputs": [
    {
     "name": "stdout",
     "output_type": "stream",
     "text": [
      "Number of rows in October 2019 file: 42448764\n",
      "Number of rows in November 2019 file: 67501979\n"
     ]
    }
   ],
   "source": [
    "# count rows\n",
    "print(f\"Number of rows in October 2019 file: {ec_oct.count()}\")\n",
    "print(f\"Number of rows in November 2019 file: {ec_nov.count()}\")"
   ]
  },
  {
   "cell_type": "markdown",
   "id": "23732e20",
   "metadata": {},
   "source": [
    "- Number of rows in October 2019 file: 42448764\n",
    "- Number of rows in November 2019 file: 67501979"
   ]
  },
  {
   "cell_type": "markdown",
   "id": "7616a728",
   "metadata": {},
   "source": [
    "---\n",
    "## Data Joining\n",
    "\n",
    "Juntar os dados dos dois ficheiros e depois escrever num parquet para ser utilizado mais para a frente. "
   ]
  },
  {
   "cell_type": "code",
   "execution_count": 6,
   "id": "bdd85fd8",
   "metadata": {},
   "outputs": [],
   "source": [
    "# merge the two datasets\n",
    "ec_total = ec_oct.union(ec_nov)"
   ]
  },
  {
   "cell_type": "code",
   "execution_count": 7,
   "id": "82d8b269",
   "metadata": {},
   "outputs": [],
   "source": [
    "# write in a parquet file\n",
    "ec_total.write.parquet(data_dir + \"ec_total.parquet\", mode=\"overwrite\")"
   ]
  },
  {
   "cell_type": "markdown",
   "id": "2e73fe6e",
   "metadata": {},
   "source": [
    "---\n",
    "Ler o parquet para ver se está tudo bem."
   ]
  },
  {
   "cell_type": "code",
   "execution_count": 8,
   "id": "5b4a2f70",
   "metadata": {},
   "outputs": [],
   "source": [
    "# read parquet file and select 5% of the data\n",
    "ec_total = spark.read.parquet(data_dir + \"ec_total.parquet\")\n",
    "# TODO: talvez ajustar porque a ordem pode ser aleatoria nos 5%\n",
    "ec_5p = ec_total.sample(fraction=0.05, seed=42) "
   ]
  },
  {
   "cell_type": "code",
   "execution_count": 9,
   "id": "f86a7073",
   "metadata": {},
   "outputs": [
    {
     "name": "stdout",
     "output_type": "stream",
     "text": [
      "Number of rows in the 5% sample: 5495486\n"
     ]
    }
   ],
   "source": [
    "# count rows\n",
    "print(f\"Number of rows in the 5% sample: {ec_5p.count()}\")"
   ]
  },
  {
   "cell_type": "code",
   "execution_count": 10,
   "id": "9805b586",
   "metadata": {},
   "outputs": [
    {
     "name": "stdout",
     "output_type": "stream",
     "text": [
      "Number of rows in the parquet file: 109950743\n",
      "Number of rows of each : 109950743\n"
     ]
    }
   ],
   "source": [
    "print(f\"Number of rows in the parquet file: {ec_total.count()}\")\n",
    "print(f\"Number of rows of each : {42448764 + 67501979}\")"
   ]
  },
  {
   "cell_type": "code",
   "execution_count": 11,
   "id": "2e768ce7",
   "metadata": {},
   "outputs": [
    {
     "name": "stdout",
     "output_type": "stream",
     "text": [
      "+-------------------+----------+----------+-------------------+--------------------+-------------+------+---------+--------------------+\n",
      "|         event_time|event_type|product_id|        category_id|       category_code|        brand| price|  user_id|        user_session|\n",
      "+-------------------+----------+----------+-------------------+--------------------+-------------+------+---------+--------------------+\n",
      "|2019-11-17 08:43:00|      view|   1005253|2053013555631882655|electronics.smart...|       xiaomi|288.04|516404307|a383cb03-2673-446...|\n",
      "|2019-11-17 08:43:01|      view|  60000003|2162513074060264222|                NULL|geoffanderson|  44.4|515817144|505cf403-f7ce-4ab...|\n",
      "|2019-11-17 08:43:01|      view|   4700388|2053013560899928785|auto.accessories....|    prestigio| 32.18|572492652|4879a14c-58b3-43a...|\n",
      "|2019-11-17 08:43:01|      cart|  28718385|2053013565228450757|       apparel.shoes|       rieker|103.99|518296473|8af4a493-9188-43a...|\n",
      "|2019-11-17 08:43:01|      cart|  26500142|2053013563550729061|                NULL|      lucente|234.76|514929163|f77c9416-abd5-47a...|\n",
      "|2019-11-17 08:43:01|      view|  19100147|2053013556227473861|construction.tool...|         NULL|239.39|560431625|5aca4f90-8977-433...|\n",
      "|2019-11-17 08:43:01|      view|   2402910|2053013563743667055|appliances.kitche...|   electrolux|211.05|568032756|785aa2ec-9f4e-44a...|\n",
      "|2019-11-17 08:43:02|      view|   1004259|2053013555631882655|electronics.smart...|        apple|824.94|518294516|15c91f85-7961-46f...|\n",
      "|2019-11-17 08:43:02|      view|  13104185|2053013553526341921|                NULL|         NULL|310.43|514989268|7993b636-0054-492...|\n",
      "|2019-11-17 08:43:03|      view|  15800012|2053013560144954031|                NULL|        bosch| 83.81|521005231|c155228f-8e1d-4e0...|\n",
      "+-------------------+----------+----------+-------------------+--------------------+-------------+------+---------+--------------------+\n",
      "only showing top 10 rows\n",
      "\n"
     ]
    }
   ],
   "source": [
    "# show 10 rows\n",
    "ec_5p.show(10)"
   ]
  },
  {
   "cell_type": "code",
   "execution_count": 12,
   "id": "b0b5a29d",
   "metadata": {},
   "outputs": [
    {
     "name": "stdout",
     "output_type": "stream",
     "text": [
      "root\n",
      " |-- event_time: timestamp (nullable = true)\n",
      " |-- event_type: string (nullable = true)\n",
      " |-- product_id: long (nullable = true)\n",
      " |-- category_id: long (nullable = true)\n",
      " |-- category_code: string (nullable = true)\n",
      " |-- brand: string (nullable = true)\n",
      " |-- price: double (nullable = true)\n",
      " |-- user_id: long (nullable = true)\n",
      " |-- user_session: string (nullable = true)\n",
      "\n"
     ]
    }
   ],
   "source": [
    "ec_5p.printSchema()"
   ]
  },
  {
   "cell_type": "code",
   "execution_count": 17,
   "id": "956191c3",
   "metadata": {},
   "outputs": [
    {
     "ename": "AnalysisException",
     "evalue": "[UNRESOLVED_COLUMN.WITH_SUGGESTION] A column or function parameter with name `category_id` cannot be resolved. Did you mean one of the following? [`cat_codes`, `product_id`].;\n'Project [product_id#102L, 'category_id]\n+- Sort [cat_codes#253L DESC NULLS LAST], true\n   +- Filter (cat_codes#253L > cast(1 as bigint))\n      +- Aggregate [product_id#102L], [product_id#102L, count(distinct category_id#103L) AS cat_codes#253L]\n         +- Relation [event_time#100,event_type#101,product_id#102L,category_id#103L,category_code#104,brand#105,price#106,user_id#107L,user_session#108] parquet\n",
     "output_type": "error",
     "traceback": [
      "\u001b[0;31m---------------------------------------------------------------------------\u001b[0m",
      "\u001b[0;31mAnalysisException\u001b[0m                         Traceback (most recent call last)",
      "Cell \u001b[0;32mIn[17], line 8\u001b[0m\n\u001b[1;32m      2\u001b[0m \u001b[38;5;28;01mimport\u001b[39;00m\u001b[38;5;250m \u001b[39m\u001b[38;5;21;01mpandas\u001b[39;00m\n\u001b[1;32m      3\u001b[0m \u001b[38;5;66;03m# Não há produtos iguais com categorias diferentes\u001b[39;00m\n\u001b[1;32m      4\u001b[0m \u001b[43mec_total\u001b[49m\u001b[38;5;241;43m.\u001b[39;49m\u001b[43mgroupBy\u001b[49m\u001b[43m(\u001b[49m\u001b[38;5;124;43m\"\u001b[39;49m\u001b[38;5;124;43mproduct_id\u001b[39;49m\u001b[38;5;124;43m\"\u001b[39;49m\u001b[43m)\u001b[49m\u001b[43m \u001b[49m\u001b[43m\\\u001b[49m\n\u001b[1;32m      5\u001b[0m \u001b[43m  \u001b[49m\u001b[38;5;241;43m.\u001b[39;49m\u001b[43magg\u001b[49m\u001b[43m(\u001b[49m\u001b[43mcountDistinct\u001b[49m\u001b[43m(\u001b[49m\u001b[38;5;124;43m\"\u001b[39;49m\u001b[38;5;124;43mcategory_id\u001b[39;49m\u001b[38;5;124;43m\"\u001b[39;49m\u001b[43m)\u001b[49m\u001b[38;5;241;43m.\u001b[39;49m\u001b[43malias\u001b[49m\u001b[43m(\u001b[49m\u001b[38;5;124;43m\"\u001b[39;49m\u001b[38;5;124;43mcat_codes\u001b[39;49m\u001b[38;5;124;43m\"\u001b[39;49m\u001b[43m)\u001b[49m\u001b[43m)\u001b[49m\u001b[43m \u001b[49m\u001b[43m\\\u001b[49m\n\u001b[1;32m      6\u001b[0m \u001b[43m  \u001b[49m\u001b[38;5;241;43m.\u001b[39;49m\u001b[43mfilter\u001b[49m\u001b[43m(\u001b[49m\u001b[38;5;124;43m\"\u001b[39;49m\u001b[38;5;124;43mcat_codes > 1\u001b[39;49m\u001b[38;5;124;43m\"\u001b[39;49m\u001b[43m)\u001b[49m\u001b[43m \u001b[49m\u001b[43m\\\u001b[49m\n\u001b[1;32m      7\u001b[0m \u001b[43m  \u001b[49m\u001b[38;5;241;43m.\u001b[39;49m\u001b[43morderBy\u001b[49m\u001b[43m(\u001b[49m\u001b[38;5;124;43m\"\u001b[39;49m\u001b[38;5;124;43mcat_codes\u001b[39;49m\u001b[38;5;124;43m\"\u001b[39;49m\u001b[43m,\u001b[49m\u001b[43m \u001b[49m\u001b[43mascending\u001b[49m\u001b[38;5;241;43m=\u001b[39;49m\u001b[38;5;28;43;01mFalse\u001b[39;49;00m\u001b[43m)\u001b[49m\u001b[43m \u001b[49m\u001b[43m\\\u001b[49m\n\u001b[0;32m----> 8\u001b[0m \u001b[43m  \u001b[49m\u001b[38;5;241;43m.\u001b[39;49m\u001b[43mselect\u001b[49m\u001b[43m(\u001b[49m\u001b[38;5;124;43m\"\u001b[39;49m\u001b[38;5;124;43mproduct_id\u001b[39;49m\u001b[38;5;124;43m\"\u001b[39;49m\u001b[43m,\u001b[49m\u001b[38;5;124;43m\"\u001b[39;49m\u001b[38;5;124;43mcategory_id\u001b[39;49m\u001b[38;5;124;43m\"\u001b[39;49m\u001b[43m)\u001b[49m\\\n\u001b[1;32m      9\u001b[0m   \u001b[38;5;241m.\u001b[39mtoPandas()\n",
      "File \u001b[0;32m/opt/conda/envs/vscode_pyspark/lib/python3.11/site-packages/pyspark/sql/dataframe.py:3229\u001b[0m, in \u001b[0;36mDataFrame.select\u001b[0;34m(self, *cols)\u001b[0m\n\u001b[1;32m   3184\u001b[0m \u001b[38;5;28;01mdef\u001b[39;00m\u001b[38;5;250m \u001b[39m\u001b[38;5;21mselect\u001b[39m(\u001b[38;5;28mself\u001b[39m, \u001b[38;5;241m*\u001b[39mcols: \u001b[38;5;124m\"\u001b[39m\u001b[38;5;124mColumnOrName\u001b[39m\u001b[38;5;124m\"\u001b[39m) \u001b[38;5;241m-\u001b[39m\u001b[38;5;241m>\u001b[39m \u001b[38;5;124m\"\u001b[39m\u001b[38;5;124mDataFrame\u001b[39m\u001b[38;5;124m\"\u001b[39m:  \u001b[38;5;66;03m# type: ignore[misc]\u001b[39;00m\n\u001b[1;32m   3185\u001b[0m \u001b[38;5;250m    \u001b[39m\u001b[38;5;124;03m\"\"\"Projects a set of expressions and returns a new :class:`DataFrame`.\u001b[39;00m\n\u001b[1;32m   3186\u001b[0m \n\u001b[1;32m   3187\u001b[0m \u001b[38;5;124;03m    .. versionadded:: 1.3.0\u001b[39;00m\n\u001b[0;32m   (...)\u001b[0m\n\u001b[1;32m   3227\u001b[0m \u001b[38;5;124;03m    +-----+---+\u001b[39;00m\n\u001b[1;32m   3228\u001b[0m \u001b[38;5;124;03m    \"\"\"\u001b[39;00m\n\u001b[0;32m-> 3229\u001b[0m     jdf \u001b[38;5;241m=\u001b[39m \u001b[38;5;28;43mself\u001b[39;49m\u001b[38;5;241;43m.\u001b[39;49m\u001b[43m_jdf\u001b[49m\u001b[38;5;241;43m.\u001b[39;49m\u001b[43mselect\u001b[49m\u001b[43m(\u001b[49m\u001b[38;5;28;43mself\u001b[39;49m\u001b[38;5;241;43m.\u001b[39;49m\u001b[43m_jcols\u001b[49m\u001b[43m(\u001b[49m\u001b[38;5;241;43m*\u001b[39;49m\u001b[43mcols\u001b[49m\u001b[43m)\u001b[49m\u001b[43m)\u001b[49m\n\u001b[1;32m   3230\u001b[0m     \u001b[38;5;28;01mreturn\u001b[39;00m DataFrame(jdf, \u001b[38;5;28mself\u001b[39m\u001b[38;5;241m.\u001b[39msparkSession)\n",
      "File \u001b[0;32m/opt/conda/envs/vscode_pyspark/lib/python3.11/site-packages/py4j/java_gateway.py:1322\u001b[0m, in \u001b[0;36mJavaMember.__call__\u001b[0;34m(self, *args)\u001b[0m\n\u001b[1;32m   1316\u001b[0m command \u001b[38;5;241m=\u001b[39m proto\u001b[38;5;241m.\u001b[39mCALL_COMMAND_NAME \u001b[38;5;241m+\u001b[39m\\\n\u001b[1;32m   1317\u001b[0m     \u001b[38;5;28mself\u001b[39m\u001b[38;5;241m.\u001b[39mcommand_header \u001b[38;5;241m+\u001b[39m\\\n\u001b[1;32m   1318\u001b[0m     args_command \u001b[38;5;241m+\u001b[39m\\\n\u001b[1;32m   1319\u001b[0m     proto\u001b[38;5;241m.\u001b[39mEND_COMMAND_PART\n\u001b[1;32m   1321\u001b[0m answer \u001b[38;5;241m=\u001b[39m \u001b[38;5;28mself\u001b[39m\u001b[38;5;241m.\u001b[39mgateway_client\u001b[38;5;241m.\u001b[39msend_command(command)\n\u001b[0;32m-> 1322\u001b[0m return_value \u001b[38;5;241m=\u001b[39m \u001b[43mget_return_value\u001b[49m\u001b[43m(\u001b[49m\n\u001b[1;32m   1323\u001b[0m \u001b[43m    \u001b[49m\u001b[43manswer\u001b[49m\u001b[43m,\u001b[49m\u001b[43m \u001b[49m\u001b[38;5;28;43mself\u001b[39;49m\u001b[38;5;241;43m.\u001b[39;49m\u001b[43mgateway_client\u001b[49m\u001b[43m,\u001b[49m\u001b[43m \u001b[49m\u001b[38;5;28;43mself\u001b[39;49m\u001b[38;5;241;43m.\u001b[39;49m\u001b[43mtarget_id\u001b[49m\u001b[43m,\u001b[49m\u001b[43m \u001b[49m\u001b[38;5;28;43mself\u001b[39;49m\u001b[38;5;241;43m.\u001b[39;49m\u001b[43mname\u001b[49m\u001b[43m)\u001b[49m\n\u001b[1;32m   1325\u001b[0m \u001b[38;5;28;01mfor\u001b[39;00m temp_arg \u001b[38;5;129;01min\u001b[39;00m temp_args:\n\u001b[1;32m   1326\u001b[0m     \u001b[38;5;28;01mif\u001b[39;00m \u001b[38;5;28mhasattr\u001b[39m(temp_arg, \u001b[38;5;124m\"\u001b[39m\u001b[38;5;124m_detach\u001b[39m\u001b[38;5;124m\"\u001b[39m):\n",
      "File \u001b[0;32m/opt/conda/envs/vscode_pyspark/lib/python3.11/site-packages/pyspark/errors/exceptions/captured.py:185\u001b[0m, in \u001b[0;36mcapture_sql_exception.<locals>.deco\u001b[0;34m(*a, **kw)\u001b[0m\n\u001b[1;32m    181\u001b[0m converted \u001b[38;5;241m=\u001b[39m convert_exception(e\u001b[38;5;241m.\u001b[39mjava_exception)\n\u001b[1;32m    182\u001b[0m \u001b[38;5;28;01mif\u001b[39;00m \u001b[38;5;129;01mnot\u001b[39;00m \u001b[38;5;28misinstance\u001b[39m(converted, UnknownException):\n\u001b[1;32m    183\u001b[0m     \u001b[38;5;66;03m# Hide where the exception came from that shows a non-Pythonic\u001b[39;00m\n\u001b[1;32m    184\u001b[0m     \u001b[38;5;66;03m# JVM exception message.\u001b[39;00m\n\u001b[0;32m--> 185\u001b[0m     \u001b[38;5;28;01mraise\u001b[39;00m converted \u001b[38;5;28;01mfrom\u001b[39;00m\u001b[38;5;250m \u001b[39m\u001b[38;5;28;01mNone\u001b[39;00m\n\u001b[1;32m    186\u001b[0m \u001b[38;5;28;01melse\u001b[39;00m:\n\u001b[1;32m    187\u001b[0m     \u001b[38;5;28;01mraise\u001b[39;00m\n",
      "\u001b[0;31mAnalysisException\u001b[0m: [UNRESOLVED_COLUMN.WITH_SUGGESTION] A column or function parameter with name `category_id` cannot be resolved. Did you mean one of the following? [`cat_codes`, `product_id`].;\n'Project [product_id#102L, 'category_id]\n+- Sort [cat_codes#253L DESC NULLS LAST], true\n   +- Filter (cat_codes#253L > cast(1 as bigint))\n      +- Aggregate [product_id#102L], [product_id#102L, count(distinct category_id#103L) AS cat_codes#253L]\n         +- Relation [event_time#100,event_type#101,product_id#102L,category_id#103L,category_code#104,brand#105,price#106,user_id#107L,user_session#108] parquet\n"
     ]
    }
   ],
   "source": [
    "from pyspark.sql.functions import countDistinct\n",
    "import pandas\n",
    "# Não há produtos iguais com categorias diferentes\n",
    "ec_total.groupBy(\"product_id\") \\\n",
    "  .agg(countDistinct(\"category_id\").alias(\"cat_codes\")) \\\n",
    "  .filter(\"cat_codes > 1\") \\\n",
    "  .orderBy(\"cat_codes\", ascending=False) \\\n",
    "  .select(\"product_id\",\"category_id\")\\\n",
    "  .toPandas()"
   ]
  },
  {
   "cell_type": "markdown",
   "id": "5491f1da",
   "metadata": {},
   "source": [
    "Experiência para ver todos os casos que mudaram de categoria"
   ]
  },
  {
   "cell_type": "code",
   "execution_count": 21,
   "id": "9be95493",
   "metadata": {},
   "outputs": [
    {
     "data": {
      "text/html": [
       "<div>\n",
       "<style scoped>\n",
       "    .dataframe tbody tr th:only-of-type {\n",
       "        vertical-align: middle;\n",
       "    }\n",
       "\n",
       "    .dataframe tbody tr th {\n",
       "        vertical-align: top;\n",
       "    }\n",
       "\n",
       "    .dataframe thead th {\n",
       "        text-align: right;\n",
       "    }\n",
       "</style>\n",
       "<table border=\"1\" class=\"dataframe\">\n",
       "  <thead>\n",
       "    <tr style=\"text-align: right;\">\n",
       "      <th></th>\n",
       "      <th>product_id</th>\n",
       "      <th>cat_codes</th>\n",
       "      <th>number</th>\n",
       "      <th>categories</th>\n",
       "    </tr>\n",
       "  </thead>\n",
       "  <tbody>\n",
       "    <tr>\n",
       "      <th>0</th>\n",
       "      <td>1201310</td>\n",
       "      <td>2</td>\n",
       "      <td>[2053013561059312345, 2172371436436455782]</td>\n",
       "      <td>[electronics.tablet]</td>\n",
       "    </tr>\n",
       "    <tr>\n",
       "      <th>1</th>\n",
       "      <td>1201422</td>\n",
       "      <td>2</td>\n",
       "      <td>[2053013561059312345, 2172371436436455782]</td>\n",
       "      <td>[electronics.tablet]</td>\n",
       "    </tr>\n",
       "    <tr>\n",
       "      <th>2</th>\n",
       "      <td>1201467</td>\n",
       "      <td>2</td>\n",
       "      <td>[2053013561059312345, 2172371436436455782]</td>\n",
       "      <td>[electronics.tablet]</td>\n",
       "    </tr>\n",
       "    <tr>\n",
       "      <th>3</th>\n",
       "      <td>1201376</td>\n",
       "      <td>2</td>\n",
       "      <td>[2053013561059312345, 2172371436436455782]</td>\n",
       "      <td>[electronics.tablet]</td>\n",
       "    </tr>\n",
       "    <tr>\n",
       "      <th>4</th>\n",
       "      <td>1201377</td>\n",
       "      <td>2</td>\n",
       "      <td>[2053013561059312345, 2172371436436455782]</td>\n",
       "      <td>[electronics.tablet]</td>\n",
       "    </tr>\n",
       "    <tr>\n",
       "      <th>5</th>\n",
       "      <td>1201575</td>\n",
       "      <td>2</td>\n",
       "      <td>[2053013561059312345, 2172371436436455782]</td>\n",
       "      <td>[electronics.tablet]</td>\n",
       "    </tr>\n",
       "    <tr>\n",
       "      <th>6</th>\n",
       "      <td>12202377</td>\n",
       "      <td>2</td>\n",
       "      <td>[2053013555782877609, 2116907525176557699]</td>\n",
       "      <td>[sport.bicycle]</td>\n",
       "    </tr>\n",
       "    <tr>\n",
       "      <th>7</th>\n",
       "      <td>40900014</td>\n",
       "      <td>2</td>\n",
       "      <td>[2127425434894205468, 2088750570935419494]</td>\n",
       "      <td>[construction.tools.painting]</td>\n",
       "    </tr>\n",
       "    <tr>\n",
       "      <th>8</th>\n",
       "      <td>40900015</td>\n",
       "      <td>2</td>\n",
       "      <td>[2127425434894205468, 2088750570935419494]</td>\n",
       "      <td>[construction.tools.painting]</td>\n",
       "    </tr>\n",
       "    <tr>\n",
       "      <th>9</th>\n",
       "      <td>50700051</td>\n",
       "      <td>2</td>\n",
       "      <td>[2134905019189691101, 2175419595093967522]</td>\n",
       "      <td>[]</td>\n",
       "    </tr>\n",
       "    <tr>\n",
       "      <th>10</th>\n",
       "      <td>1201268</td>\n",
       "      <td>2</td>\n",
       "      <td>[2053013561059312345, 2172371436436455782]</td>\n",
       "      <td>[electronics.tablet]</td>\n",
       "    </tr>\n",
       "    <tr>\n",
       "      <th>11</th>\n",
       "      <td>1201374</td>\n",
       "      <td>2</td>\n",
       "      <td>[2053013561059312345, 2172371436436455782]</td>\n",
       "      <td>[electronics.tablet]</td>\n",
       "    </tr>\n",
       "    <tr>\n",
       "      <th>12</th>\n",
       "      <td>1201397</td>\n",
       "      <td>2</td>\n",
       "      <td>[2053013561059312345, 2172371436436455782]</td>\n",
       "      <td>[electronics.tablet]</td>\n",
       "    </tr>\n",
       "    <tr>\n",
       "      <th>13</th>\n",
       "      <td>22600001</td>\n",
       "      <td>2</td>\n",
       "      <td>[2165087460176953468, 2053013560581161671]</td>\n",
       "      <td>[auto.accessories.compressor]</td>\n",
       "    </tr>\n",
       "    <tr>\n",
       "      <th>14</th>\n",
       "      <td>22600078</td>\n",
       "      <td>2</td>\n",
       "      <td>[2165087460176953468, 2053013560581161671]</td>\n",
       "      <td>[auto.accessories.compressor]</td>\n",
       "    </tr>\n",
       "    <tr>\n",
       "      <th>15</th>\n",
       "      <td>28717874</td>\n",
       "      <td>2</td>\n",
       "      <td>[2053013565228450757, 2053013565782098913]</td>\n",
       "      <td>[apparel.shoes]</td>\n",
       "    </tr>\n",
       "    <tr>\n",
       "      <th>16</th>\n",
       "      <td>1201289</td>\n",
       "      <td>2</td>\n",
       "      <td>[2053013561059312345, 2172371436436455782]</td>\n",
       "      <td>[electronics.tablet]</td>\n",
       "    </tr>\n",
       "    <tr>\n",
       "      <th>17</th>\n",
       "      <td>1201392</td>\n",
       "      <td>2</td>\n",
       "      <td>[2053013561059312345, 2172371436436455782]</td>\n",
       "      <td>[electronics.tablet]</td>\n",
       "    </tr>\n",
       "    <tr>\n",
       "      <th>18</th>\n",
       "      <td>12201183</td>\n",
       "      <td>2</td>\n",
       "      <td>[2053013555782877609, 2116907525176557699]</td>\n",
       "      <td>[sport.bicycle]</td>\n",
       "    </tr>\n",
       "    <tr>\n",
       "      <th>19</th>\n",
       "      <td>1201393</td>\n",
       "      <td>2</td>\n",
       "      <td>[2053013561059312345, 2172371436436455782]</td>\n",
       "      <td>[electronics.tablet]</td>\n",
       "    </tr>\n",
       "    <tr>\n",
       "      <th>20</th>\n",
       "      <td>1201400</td>\n",
       "      <td>2</td>\n",
       "      <td>[2053013561059312345, 2172371436436455782]</td>\n",
       "      <td>[electronics.tablet]</td>\n",
       "    </tr>\n",
       "    <tr>\n",
       "      <th>21</th>\n",
       "      <td>1201418</td>\n",
       "      <td>2</td>\n",
       "      <td>[2053013561059312345, 2172371436436455782]</td>\n",
       "      <td>[electronics.tablet]</td>\n",
       "    </tr>\n",
       "  </tbody>\n",
       "</table>\n",
       "</div>"
      ],
      "text/plain": [
       "    product_id  cat_codes                                      number  \\\n",
       "0      1201310          2  [2053013561059312345, 2172371436436455782]   \n",
       "1      1201422          2  [2053013561059312345, 2172371436436455782]   \n",
       "2      1201467          2  [2053013561059312345, 2172371436436455782]   \n",
       "3      1201376          2  [2053013561059312345, 2172371436436455782]   \n",
       "4      1201377          2  [2053013561059312345, 2172371436436455782]   \n",
       "5      1201575          2  [2053013561059312345, 2172371436436455782]   \n",
       "6     12202377          2  [2053013555782877609, 2116907525176557699]   \n",
       "7     40900014          2  [2127425434894205468, 2088750570935419494]   \n",
       "8     40900015          2  [2127425434894205468, 2088750570935419494]   \n",
       "9     50700051          2  [2134905019189691101, 2175419595093967522]   \n",
       "10     1201268          2  [2053013561059312345, 2172371436436455782]   \n",
       "11     1201374          2  [2053013561059312345, 2172371436436455782]   \n",
       "12     1201397          2  [2053013561059312345, 2172371436436455782]   \n",
       "13    22600001          2  [2165087460176953468, 2053013560581161671]   \n",
       "14    22600078          2  [2165087460176953468, 2053013560581161671]   \n",
       "15    28717874          2  [2053013565228450757, 2053013565782098913]   \n",
       "16     1201289          2  [2053013561059312345, 2172371436436455782]   \n",
       "17     1201392          2  [2053013561059312345, 2172371436436455782]   \n",
       "18    12201183          2  [2053013555782877609, 2116907525176557699]   \n",
       "19     1201393          2  [2053013561059312345, 2172371436436455782]   \n",
       "20     1201400          2  [2053013561059312345, 2172371436436455782]   \n",
       "21     1201418          2  [2053013561059312345, 2172371436436455782]   \n",
       "\n",
       "                       categories  \n",
       "0            [electronics.tablet]  \n",
       "1            [electronics.tablet]  \n",
       "2            [electronics.tablet]  \n",
       "3            [electronics.tablet]  \n",
       "4            [electronics.tablet]  \n",
       "5            [electronics.tablet]  \n",
       "6                 [sport.bicycle]  \n",
       "7   [construction.tools.painting]  \n",
       "8   [construction.tools.painting]  \n",
       "9                              []  \n",
       "10           [electronics.tablet]  \n",
       "11           [electronics.tablet]  \n",
       "12           [electronics.tablet]  \n",
       "13  [auto.accessories.compressor]  \n",
       "14  [auto.accessories.compressor]  \n",
       "15                [apparel.shoes]  \n",
       "16           [electronics.tablet]  \n",
       "17           [electronics.tablet]  \n",
       "18                [sport.bicycle]  \n",
       "19           [electronics.tablet]  \n",
       "20           [electronics.tablet]  \n",
       "21           [electronics.tablet]  "
      ]
     },
     "execution_count": 21,
     "metadata": {},
     "output_type": "execute_result"
    }
   ],
   "source": [
    "from pyspark.sql.functions import countDistinct, collect_set\n",
    "import pandas\n",
    "ec_total.groupBy(\"product_id\") \\\n",
    "    .agg(\n",
    "        countDistinct(\"category_id\").alias(\"cat_codes\"),\n",
    "        collect_set(\"category_id\").alias(\"number\"),\n",
    "        collect_set(\"category_code\").alias(\"categories\")\n",
    "    ) \\\n",
    "    .filter(\"cat_codes > 1\") \\\n",
    "    .orderBy(\"cat_codes\", ascending=False) \\\n",
    "    .toPandas()"
   ]
  }
 ],
 "metadata": {
  "kernelspec": {
   "display_name": "vscode_pyspark",
   "language": "python",
   "name": "python3"
  },
  "language_info": {
   "codemirror_mode": {
    "name": "ipython",
    "version": 3
   },
   "file_extension": ".py",
   "mimetype": "text/x-python",
   "name": "python",
   "nbconvert_exporter": "python",
   "pygments_lexer": "ipython3",
   "version": "3.11.11"
  }
 },
 "nbformat": 4,
 "nbformat_minor": 5
}
